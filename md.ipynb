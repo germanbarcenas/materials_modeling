{
 "cells": [
  {
   "cell_type": "code",
   "execution_count": 5,
   "metadata": {},
   "outputs": [],
   "source": [
    "import numpy\n",
    "def energy(occupied):\n",
    "    epsilon =-1\n",
    "    U = 0\n",
    "    for i, site1 in enumerate(occupied[:-1]): #all but the last!\n",
    "        for site2 in occupied[i+1:]: #from the i+1th to the last!\n",
    "        # Check nearest neighbor\n",
    "        # Check if check if last site - first site are last value - 1 since all occupied are = 1\n",
    "            if numpy.absolute(site1-site2)==1 or numpy.absolute(site1-site2)==V-1:\n",
    "                U+=epsilon\n",
    "    return U\n",
    "\n",
    "def trial_move(occupied,lattice,T):\n",
    "    Uo = energy(occupied)\n",
    "    #pick a particle at random\n",
    "    numpy.random.shuffle(occupied) #shuffles the elements of occupied\n",
    "    old = occupied[0]\n",
    "    #pick an EMPTY place at random to move it to\n",
    "    empty_mask = numpy.isin(numpy.arange(V),occupied,invert=True)\n",
    "    empty_sites = numpy.arange(V)[empty_mask] # list of empty sites\n",
    "    new = empty_sites[numpy.random.randint(len(empty_sites))]\n",
    "    occupied[0]= new\n",
    "    #if energy down, accept\n",
    "    Un = energy(occupied)\n",
    "    #if energy up and random < boltzmann weight, accept\n",
    "    if (Un<=Uo) or numpy.random.random() < numpy.exp(-(Un-Uo)/T):\n",
    "        lattice[old] = 0\n",
    "        lattice[new] = 1\n",
    "        return occupied, lattice, Un\n",
    "        #otherwise reject\n",
    "    occupied[0]=old\n",
    "    return occupied, lattice, Uo\n",
    "    #make our MC simulation!\n",
    "\n",
    "def run(nsteps,T,occupied, lattice):\n",
    "    U = []\n",
    "    for step in range(nsteps):\n",
    "        occupied, lattice, u = trial_move(occupied, lattice,T)\n",
    "        U.append(u)\n",
    "        if step%50==0:\n",
    "            print(step,u,lattice)\n",
    "        # A solid will be defined as having all occupied sites touching. This is an instaneous view\n",
    "        # this is a rigid definition without considering a liquid, but essentially we whould have to\n",
    "        # define the atomic neighbors, or coordinate number if we really wanted to be specific\n",
    "            if numpy.absolute(u) == len(occupied)-1:\n",
    "                print('solid', T)\n",
    "            else:\n",
    "                print('gas', T)\n",
    "    return numpy.array(U)/N"
   ]
  },
  {
   "cell_type": "code",
   "execution_count": 9,
   "metadata": {},
   "outputs": [
    {
     "name": "stdout",
     "output_type": "stream",
     "text": [
      "0 -1 [0. 1. 0. 0. 0. 1. 0. 0. 0. 0. 0. 0. 1. 1. 0. 0. 0. 1. 0. 0. 0. 1. 0. 0.\n",
      " 0.]\n",
      "gas 0.185\n",
      "50 -4 [0. 1. 0. 0. 0. 0. 0. 0. 0. 1. 1. 1. 1. 1. 0. 0. 0. 0. 0. 0. 0. 0. 0. 0.\n",
      " 0.]\n",
      "gas 0.185\n",
      "100 -4 [0. 0. 0. 0. 0. 1. 0. 0. 0. 1. 1. 1. 1. 1. 0. 0. 0. 0. 0. 0. 0. 0. 0. 0.\n",
      " 0.]\n",
      "gas 0.185\n",
      "150 -5 [0. 0. 0. 0. 0. 0. 0. 0. 0. 1. 1. 1. 1. 1. 1. 0. 0. 0. 0. 0. 0. 0. 0. 0.\n",
      " 0.]\n",
      "solid 0.185\n",
      "200 -5 [0. 0. 0. 0. 0. 0. 0. 0. 0. 0. 1. 1. 1. 1. 1. 1. 0. 0. 0. 0. 0. 0. 0. 0.\n",
      " 0.]\n",
      "solid 0.185\n",
      "250 -4 [0. 0. 0. 1. 1. 0. 0. 0. 0. 0. 0. 0. 1. 1. 1. 1. 0. 0. 0. 0. 0. 0. 0. 0.\n",
      " 0.]\n",
      "gas 0.185\n",
      "300 -4 [0. 1. 1. 1. 1. 1. 0. 0. 0. 0. 0. 0. 0. 0. 0. 1. 0. 0. 0. 0. 0. 0. 0. 0.\n",
      " 0.]\n",
      "gas 0.185\n",
      "350 -5 [0. 1. 1. 1. 1. 1. 1. 0. 0. 0. 0. 0. 0. 0. 0. 0. 0. 0. 0. 0. 0. 0. 0. 0.\n",
      " 0.]\n",
      "solid 0.185\n",
      "400 -5 [0. 1. 1. 1. 1. 1. 1. 0. 0. 0. 0. 0. 0. 0. 0. 0. 0. 0. 0. 0. 0. 0. 0. 0.\n",
      " 0.]\n",
      "solid 0.185\n",
      "450 -5 [0. 0. 1. 1. 1. 1. 1. 1. 0. 0. 0. 0. 0. 0. 0. 0. 0. 0. 0. 0. 0. 0. 0. 0.\n",
      " 0.]\n",
      "solid 0.185\n",
      "-0.7606666666666666\n"
     ]
    },
    {
     "data": {
      "image/png": "[encoded data removed]",
      "text/plain": [
       "<Figure size 432x288 with 1 Axes>"
      ]
     },
     "metadata": {
      "needs_background": "light"
     },
     "output_type": "display_data"
    }
   ],
   "source": [
    "%matplotlib inline\n",
    "import matplotlib.pyplot as plt\n",
    "V = 25 #number of sites in our volume. MUST HAVE A INTEGER SQUARE ROOT\n",
    "N = 6 # number of particles\n",
    "lattice = numpy.zeros(V)#Initialize empty lattice\n",
    "occupied = numpy.random.choice(V,N,replace=False)\n",
    "for site in occupied:\n",
    "    lattice[site] = 1\n",
    "    \n",
    "U = run(500,0.185,occupied,lattice,)\n",
    "plt.plot(U)\n",
    "print(numpy.average(U))"
   ]
  },
  {
   "cell_type": "code",
   "execution_count": 10,
   "metadata": {},
   "outputs": [
    {
     "ename": "SyntaxError",
     "evalue": "invalid syntax (<ipython-input-10-51abdf8e837b>, line 13)",
     "output_type": "error",
     "traceback": [
      "\u001b[1;36m  File \u001b[1;32m\"<ipython-input-10-51abdf8e837b>\"\u001b[1;36m, line \u001b[1;32m13\u001b[0m\n\u001b[1;33m    ntially I'm trying to create\u001b[0m\n\u001b[1;37m            ^\u001b[0m\n\u001b[1;31mSyntaxError\u001b[0m\u001b[1;31m:\u001b[0m invalid syntax\n"
     ]
    }
   ],
   "source": [
    "# 2D Simulation\n",
    "# Initialize square nxn matrix,\n",
    "i = int(numpy.sqrt(V))\n",
    "Z = numpy.zeros(shape=(i,i))\n",
    "# Randomly populate matrix\n",
    "lattice_2d = numpy.reshape(lattice,(i,i))\n",
    "print(occupied)\n",
    "print(lattice_2d)\n",
    "Q = numpy.random.shuffle(lattice_2d)\n",
    "print(Q)\n",
    "print(occupied)\n",
    "# Essentially I'm trying to create\n",
    "# an nxn matrix. Then I want to randomly occupy this matrix. Once that's done, I want to randomly shuffle them around.\n",
    "# Energy minimizaion is odd on this route, but I think if we're looking for is accepting only arrangements in which\n",
    "# nearest neighbors on rows will drop the energy levels. Same for neighbors on columns.\n"
   ]
  },
  {
   "cell_type": "code",
   "execution_count": 11,
   "metadata": {},
   "outputs": [
    {
     "ename": "SyntaxError",
     "evalue": "invalid syntax (<ipython-input-11-51abdf8e837b>, line 13)",
     "output_type": "error",
     "traceback": [
      "\u001b[1;36m  File \u001b[1;32m\"<ipython-input-11-51abdf8e837b>\"\u001b[1;36m, line \u001b[1;32m13\u001b[0m\n\u001b[1;33m    ntially I'm trying to create\u001b[0m\n\u001b[1;37m            ^\u001b[0m\n\u001b[1;31mSyntaxError\u001b[0m\u001b[1;31m:\u001b[0m invalid syntax\n"
     ]
    }
   ],
   "source": [
    " # This script should be O(n^2). At its most basic, we are simply performing a nested loop in our energy function.\n",
    "# Everything else feeds into this so its just O(n^2)\n"
   ]
  },
  {
   "cell_type": "code",
   "execution_count": 12,
   "metadata": {},
   "outputs": [
    {
     "ename": "SyntaxError",
     "evalue": "invalid syntax (<ipython-input-12-e6e76d3deeee>, line 2)",
     "output_type": "error",
     "traceback": [
      "\u001b[1;36m  File \u001b[1;32m\"<ipython-input-12-e6e76d3deeee>\"\u001b[1;36m, line \u001b[1;32m2\u001b[0m\n\u001b[1;33m    all this n_old.\u001b[0m\n\u001b[1;37m           ^\u001b[0m\n\u001b[1;31mSyntaxError\u001b[0m\u001b[1;31m:\u001b[0m invalid syntax\n"
     ]
    }
   ],
   "source": [
    "# To equilibrate, we should be able to save the u at each nstep. We will call this n_old.\n",
    "# At a new nstep, once the atoms have been randomly moved, calculate the u_new.\n",
    "# At this point, we can check for convergence. There are many ways to do this\n",
    "# We might employ a Newton-Raphson technique or a Gradient Decent Method.This makes sense to me for clear cases\n",
    "# of a solid convergence, but I'm not sure how I might call for an equilibration of a higher temperature simulation\n",
    "# I think this might be more in line with statisitc and the variance of the data as the steps grow.\n"
   ]
  },
  {
   "cell_type": "code",
   "execution_count": null,
   "metadata": {},
   "outputs": [],
   "source": [
    "# The steps to equilibration could be defined as the point at which the variance of the data as steps increase\n",
    "# has reached some tolerance that we could predefine. If we consider the root finding algos,\n",
    "# the steps to equilibration occurs either at some tolerance of accuracy predefined."
   ]
  }
 ],
 "metadata": {
  "kernelspec": {
   "display_name": "Python 3",
   "language": "python",
   "name": "python3"
  },
  "language_info": {
   "codemirror_mode": {
    "name": "ipython",
    "version": 3
   },
   "file_extension": ".py",
   "mimetype": "text/x-python",
   "name": "python",
   "nbconvert_exporter": "python",
   "pygments_lexer": "ipython3",
   "version": "3.7.1"
  }
 },
 "nbformat": 4,
 "nbformat_minor": 2
}
