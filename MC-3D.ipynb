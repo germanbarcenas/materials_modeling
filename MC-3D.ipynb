{
 "cells": [
  {
   "cell_type": "code",
   "execution_count": 211,
   "metadata": {},
   "outputs": [],
   "source": [
    "%matplotlib inline\n",
    "import matplotlib.pyplot as plt\n",
    "import numpy\n",
    "import time\n",
    "\n",
    "def to3D(site,L):\n",
    "    z = site//(L*L)\n",
    "    sitexy = site - (z*L*L)\n",
    "    y = sitexy%L\n",
    "    x = sitexy//L\n",
    "    return z,x,y\n",
    "\n",
    "def init(N,L):\n",
    "    \"\"\"returns a list of N occupied sites and an LxL lattice with 0's for\n",
    "       empty sites and integers >0 corresponding to non-empty sites. \"\"\"\n",
    "    lattice = numpy.zeros((L,L,L),dtype=numpy.int8)#Initialize empty lattice\n",
    "    occupied = numpy.random.choice(L*L*L,N,replace=False)\n",
    "    for i,site in enumerate(occupied):\n",
    "        z,x,y = to3D(site,L) # this finds the z,y,x coordinate of the site wrt the site number\n",
    "        lattice[z][x][y] = i+1 # this find the site we are talking about, find its x,y,z and put a 1 in the corresponding place\n",
    "    return occupied, lattice\n",
    "        \n",
    "def adjacent(site,L):\n",
    "    \"\"\"Return a tuple with indices corresponding to the four sites adjacent\n",
    "       to the one passed in, wrapping around a LxL periodic volume.\"\"\"\n",
    "    z,x,y = to3D(site,L) # this finds the z,y,x coordinate of the site wrt the site number\n",
    "    \n",
    "    zscale = z*L*L\n",
    "    xyscale = site - zscale\n",
    "    \n",
    "    left = ((y - 1 + L) % L) + (x*L) + zscale\n",
    "    right = ((y + 1) % L) + (x*L) + zscale\n",
    "    up =  ((x - 1 + L) % L)*L + y + zscale\n",
    "    down =  ((x + 1) % L)*L + y + zscale\n",
    "    front = ((z + L + 1) % L)*L*L + xyscale\n",
    "    back =  ((z + L - 1 ) % L)*L*L + xyscale\n",
    "    return (right, down, front, left, up , back)\n",
    "    \n",
    "def energy(occupied,lattice,epsilon=-1):\n",
    "    \"\"\"Returns the total potential energy for the occupied sites on a lattice.\"\"\"\n",
    "    U = 0\n",
    "    L = len(lattice)\n",
    "    for site in occupied: #loop over all sites\n",
    "        for neighbor in adjacent(site,L)[:3]: #Look right,down, front to avoid double counting\n",
    "            z,x,y = to3D(neighbor,L) # this finds the z,y,x coordinate of the site wrt the site number\n",
    "            if lattice[neighbor//(L*L)][(neighbor-(z*L*L))//L][(neighbor-(z*L*L))%L] != 0:\n",
    "                U+=epsilon\n",
    "                \n",
    "    return U\n",
    "\n",
    "def trial_move(occupied,lattice,T):\n",
    "    L=len(lattice)\n",
    "    V = L*L*L\n",
    "    Uo = energy(occupied,lattice)\n",
    "    numpy.random.shuffle(occupied) #shuffles the elements of occupied\n",
    "    old = occupied[0]\n",
    "    empty_mask = numpy.isin(numpy.arange(V),occupied,invert=True)\n",
    "    empty_sites = numpy.arange(V)[empty_mask] # list of empty sites\n",
    "    new = empty_sites[numpy.random.randint(len(empty_sites))]\n",
    "    occupied[0]= new\n",
    "    zn,xn,yn = to3D(new,L)\n",
    "    zo,xo,yo = to3D(old,L)\n",
    "    lattice[zn][xn][yn] = lattice[zo][xo][yo]\n",
    "    lattice[zo][xo][yo] = 0\n",
    "    Un = energy(occupied,lattice)\n",
    "    if (Un<=Uo) or numpy.random.random() < numpy.exp(-(Un-Uo)/T):\n",
    "        return occupied, lattice, Un\n",
    "    lattice[zo][xo][yo] = lattice[zn][xn][yn]\n",
    "    lattice[zn][xn][yn] = 0\n",
    "    occupied[0]=old\n",
    "    return occupied, lattice, Uo\n",
    "\n",
    "def run(nsteps,T,occupied, lattice):\n",
    "    U = []\n",
    "    for step in range(int(nsteps)):\n",
    "        occupied, lattice, u = trial_move(occupied, lattice,T)\n",
    "        U.append(u)\n",
    "    return numpy.array(U)/len(occupied)\n",
    "\n",
    "def analyze(data):\n",
    "    a = numpy.average(data)\n",
    "    s = numpy.std(data)\n",
    "    return a,s"
   ]
  },
  {
   "cell_type": "code",
   "execution_count": 213,
   "metadata": {
    "scrolled": true
   },
   "outputs": [
    {
     "name": "stdout",
     "output_type": "stream",
     "text": [
      "10\n",
      "\t 0.1\n",
      "\t 0.22\n",
      "\t 0.33999999999999997\n",
      "\t 0.45999999999999996\n",
      "\t 0.58\n",
      "\t 0.7\n",
      "\t 0.82\n",
      "\t 0.94\n",
      "\t 1.06\n",
      "\t 1.1800000000000002\n",
      "\t 1.3\n",
      "20\n",
      "\t 0.1\n",
      "\t 0.22\n",
      "\t 0.33999999999999997\n",
      "\t 0.45999999999999996\n",
      "\t 0.58\n",
      "\t 0.7\n",
      "\t 0.82\n",
      "\t 0.94\n",
      "\t 1.06\n",
      "\t 1.1800000000000002\n",
      "\t 1.3\n",
      "30\n",
      "\t 0.1\n",
      "\t 0.22\n",
      "\t 0.33999999999999997\n",
      "\t 0.45999999999999996\n",
      "\t 0.58\n",
      "\t 0.7\n",
      "\t 0.82\n",
      "\t 0.94\n",
      "\t 1.06\n",
      "\t 1.1800000000000002\n",
      "\t 1.3\n",
      "40\n",
      "\t 0.1\n",
      "\t 0.22\n",
      "\t 0.33999999999999997\n",
      "\t 0.45999999999999996\n",
      "\t 0.58\n",
      "\t 0.7\n",
      "\t 0.82\n",
      "\t 0.94\n",
      "\t 1.06\n",
      "\t 1.1800000000000002\n",
      "\t 1.3\n",
      "50\n",
      "\t 0.1\n",
      "\t 0.22\n",
      "\t 0.33999999999999997\n",
      "\t 0.45999999999999996\n",
      "\t 0.58\n",
      "\t 0.7\n",
      "\t 0.82\n",
      "\t 0.94\n",
      "\t 1.06\n",
      "\t 1.1800000000000002\n",
      "\t 1.3\n",
      "60\n",
      "\t 0.1\n",
      "\t 0.22\n",
      "\t 0.33999999999999997\n",
      "\t 0.45999999999999996\n",
      "\t 0.58\n",
      "\t 0.7\n",
      "\t 0.82\n",
      "\t 0.94\n",
      "\t 1.06\n",
      "\t 1.1800000000000002\n",
      "\t 1.3\n",
      "70\n",
      "\t 0.1\n",
      "\t 0.22\n",
      "\t 0.33999999999999997\n",
      "\t 0.45999999999999996\n",
      "\t 0.58\n",
      "\t 0.7\n",
      "\t 0.82\n",
      "\t 0.94\n",
      "\t 1.06\n",
      "\t 1.1800000000000002\n",
      "\t 1.3\n",
      "80\n",
      "\t 0.1\n",
      "\t 0.22\n",
      "\t 0.33999999999999997\n",
      "\t 0.45999999999999996\n",
      "\t 0.58\n",
      "\t 0.7\n",
      "\t 0.82\n",
      "\t 0.94\n",
      "\t 1.06\n",
      "\t 1.1800000000000002\n",
      "\t 1.3\n",
      "90\n",
      "\t 0.1\n",
      "\t 0.22\n",
      "\t 0.33999999999999997\n",
      "\t 0.45999999999999996\n",
      "\t 0.58\n",
      "\t 0.7\n",
      "\t 0.82\n",
      "\t 0.94\n",
      "\t 1.06\n",
      "\t 1.1800000000000002\n",
      "\t 1.3\n"
     ]
    }
   ],
   "source": [
    "Temps = numpy.linspace(0.1,1.3,num=len(times)) # Interesting range of temperatures to control movement of N particles\n",
    "Sizes = range(10,100,10) # Sets our N values with (start,stop,resolution)\n",
    "results = {}\n",
    "for N in Sizes: # Every 10 steps, print results to look at\n",
    "    onerun = []\n",
    "    print(N)\n",
    "    for T in Temps:\n",
    "        print(\"\\t\",T)\n",
    "        occupied, lattice = init(N,N) # N, L\n",
    "        start = time.time()\n",
    "        U = run(1e3,T,occupied, lattice)\n",
    "        a, s = analyze(U)\n",
    "        finish = time.time()\n",
    "        onerun.append((a,s,finish-start))\n",
    "        results[N] =  numpy.array(onerun)"
   ]
  },
  {
   "cell_type": "code",
   "execution_count": 215,
   "metadata": {},
   "outputs": [
    {
     "data": {
      "text/plain": [
       "Text(0.5, 1.0, 'Time to Complete Simulation compared to N particles at V=125')"
      ]
     },
     "execution_count": 215,
     "metadata": {},
     "output_type": "execute_result"
    },
    {
     "data": {
      "image/png": "[encoded data removed]",
      "text/plain": [
       "<Figure size 432x288 with 1 Axes>"
      ]
     },
     "metadata": {
      "needs_background": "light"
     },
     "output_type": "display_data"
    }
   ],
   "source": [
    "times = []\n",
    "for N in Sizes:\n",
    "    times.append((numpy.average(results[N][:,2]),numpy.std(results[N][:,2])))\n",
    "times = numpy.array(times)\n",
    "plt.errorbar(Sizes,times[:,0],times[:,1])\n",
    "plt.xlabel(\"N\")\n",
    "plt.ylabel(\"<Seconds>\")\n",
    "plt.title('Time to Complete Simulation compared to N particles at V=125')"
   ]
  },
  {
   "cell_type": "code",
   "execution_count": 347,
   "metadata": {},
   "outputs": [
    {
     "data": {
      "text/plain": [
       "Text(0, 0.5, '<U>')"
      ]
     },
     "execution_count": 347,
     "metadata": {},
     "output_type": "execute_result"
    },
    {
     "data": {
      "image/png": "[encoded data removed]",
      "text/plain": [
       "<Figure size 432x288 with 1 Axes>"
      ]
     },
     "metadata": {
      "needs_background": "light"
     },
     "output_type": "display_data"
    }
   ],
   "source": [
    "plt.errorbar(Temps,results[10][:,0],results[10][:,1])\n",
    "plt.errorbar(Temps,results[20][:,0],results[20][:,1])\n",
    "plt.errorbar(Temps,results[30][:,0],results[30][:,1])\n",
    "plt.errorbar(Temps,results[50][:,0],results[50][:,1])\n",
    "plt.errorbar(Temps,results[70][:,0],results[70][:,1])\n",
    "plt.errorbar(Temps,results[90][:,0],results[90][:,1])\n",
    "plt.xlabel(\"T\")\n",
    "plt.ylabel(\"<U>\")\n"
   ]
  },
  {
   "cell_type": "code",
   "execution_count": 360,
   "metadata": {},
   "outputs": [
    {
     "name": "stdout",
     "output_type": "stream",
     "text": [
      "Object `sets` not found.\n",
      "3\n",
      "5\n",
      "5\n",
      "11\n",
      "5\n",
      "looks like the run that has 70 produces the best set\n"
     ]
    }
   ],
   "source": [
    "# The purpose of this assignment is to develop data handling skills around statistical information.\n",
    "# The two files are PE/N data from 1D MC simulations with N=25, V=50, at T=1.0 or T=0.1.\n",
    "%matplotlib inline\n",
    "import matplotlib.pyplot as plt\n",
    "import numpy\n",
    "def autocorr1D(array):\n",
    "    '''Takes in a linear numpy array, performs autocorrelation\n",
    "       function and returns normalized array with half the length \n",
    "       of the input'''\n",
    "    ft = numpy.fft.rfft(array-numpy.average(array)) \n",
    "    acorr = numpy.fft.irfft(ft*numpy.conjugate(ft))/(len(array)*numpy.var(array))\n",
    "    return acorr[0:len(acorr)//2]\n",
    "\n",
    "\n",
    "How many statistically independent samples can we extract from each of these data sets?\n",
    "ac1 = autocorr1D(results[10][:,0])\n",
    "ac2 = autocorr1D(results[30][:,0])\n",
    "ac3 = autocorr1D(results[50][:,0])\n",
    "ac4 = autocorr1D(results[70][:,0])\n",
    "ac5 = autocorr1D(results[90][:,0])\n",
    "dt1 = numpy.argwhere(ac1<0)[0][0] #the 0th element of argwhere is a list containing the index of the first element <0, so we use [0] of that to get the value itself\n",
    "dt2 = numpy.argwhere(ac2<0)[0][0]\n",
    "dt3 = numpy.argwhere(ac3<0)[0][0]\n",
    "dt4 = numpy.argwhere(ac4<0)[0][0]\n",
    "dt5 = numpy.argwhere(ac5<0)[0][0]\n",
    "free1 = len(results[10][:,0])//dt1\n",
    "free2 = len(results[30][:,0])//dt2\n",
    "free3 = len(results[50][:,0])//dt3\n",
    "free4 = len(results[70][:,0])//dt4\n",
    "free5 = len(results[90][:,0])//dt5\n",
    "print(free1)\n",
    "print(free2)\n",
    "print(free3)\n",
    "print(free4)\n",
    "print(free5)\n",
    "print('looks like the run that has 70 produces the best set')"
   ]
  },
  {
   "cell_type": "code",
   "execution_count": 344,
   "metadata": {},
   "outputs": [
    {
     "data": {
      "text/plain": [
       "Text(0, 0.5, 'T')"
      ]
     },
     "execution_count": 344,
     "metadata": {},
     "output_type": "execute_result"
    },
    {
     "data": {
      "image/png": "[encoded data removed]",
      "text/plain": [
       "<Figure size 432x288 with 1 Axes>"
      ]
     },
     "metadata": {
      "needs_background": "light"
     },
     "output_type": "display_data"
    }
   ],
   "source": [
    "# Cv\n",
    "Cv = {}\n",
    "for N in Sizes:\n",
    "    cvonerun = []\n",
    "    for i,T in enumerate(Temps):\n",
    "        cv = (1/T**2)*((numpy.square(results[N][i,1])))\n",
    "        cvonerun.append(cv)\n",
    "        Cv[N] = numpy.array(cvonerun)\n",
    "\n",
    "plt.plot(Cv[10][:],Temps,'b')\n",
    "plt.plot(Cv[20][:],Temps,'g')\n",
    "plt.plot(Cv[30][:],Temps,'r')\n",
    "plt.plot(Cv[40][:],Temps,'k')\n",
    "plt.plot(Cv[50][:],Temps,'+')\n",
    "plt.xlabel(\"Cv\")\n",
    "plt.ylabel(\"T\")\n",
    "print('I recognize that I should probably divide each of the U terms by the independent sample size, but Ive just run low on time ')"
   ]
  },
  {
   "cell_type": "code",
   "execution_count": 361,
   "metadata": {},
   "outputs": [
    {
     "ename": "NameError",
     "evalue": "name 'bins' is not defined",
     "output_type": "error",
     "traceback": [
      "\u001b[1;31m---------------------------------------------------------------------------\u001b[0m",
      "\u001b[1;31mNameError\u001b[0m                                 Traceback (most recent call last)",
      "\u001b[1;32m<ipython-input-361-df556c4cb8af>\u001b[0m in \u001b[0;36m<module>\u001b[1;34m\u001b[0m\n\u001b[0;32m     21\u001b[0m     \u001b[1;31m#Note: Number of Pairs is N*(N-1)/2 (Sum of numbers from 1 to N-1)\u001b[0m\u001b[1;33m\u001b[0m\u001b[1;33m\u001b[0m\u001b[1;33m\u001b[0m\u001b[0m\n\u001b[0;32m     22\u001b[0m     \u001b[1;32mreturn\u001b[0m \u001b[0mr\u001b[0m\u001b[1;33m,\u001b[0m \u001b[0mbins\u001b[0m\u001b[1;33m\u001b[0m\u001b[1;33m\u001b[0m\u001b[0m\n\u001b[1;32m---> 23\u001b[1;33m \u001b[0mprint\u001b[0m\u001b[1;33m(\u001b[0m\u001b[0mbins\u001b[0m\u001b[1;33m[\u001b[0m\u001b[0mi\u001b[0m\u001b[1;33m]\u001b[0m\u001b[1;33m)\u001b[0m\u001b[1;33m\u001b[0m\u001b[1;33m\u001b[0m\u001b[0m\n\u001b[0m\u001b[0;32m     24\u001b[0m \u001b[0mr\u001b[0m\u001b[1;33m,\u001b[0m\u001b[0mbins\u001b[0m \u001b[1;33m=\u001b[0m \u001b[0mrdf\u001b[0m\u001b[1;33m(\u001b[0m\u001b[0moccupied\u001b[0m\u001b[1;33m,\u001b[0m \u001b[1;36m5\u001b[0m\u001b[1;33m,\u001b[0m \u001b[0mdr\u001b[0m\u001b[1;33m)\u001b[0m\u001b[1;33m\u001b[0m\u001b[1;33m\u001b[0m\u001b[0m\n\u001b[0;32m     25\u001b[0m \u001b[0mplt\u001b[0m\u001b[1;33m.\u001b[0m\u001b[0mplot\u001b[0m\u001b[1;33m(\u001b[0m\u001b[0mr\u001b[0m\u001b[1;33m,\u001b[0m\u001b[0mbins\u001b[0m\u001b[1;33m)\u001b[0m\u001b[1;33m\u001b[0m\u001b[1;33m\u001b[0m\u001b[0m\n",
      "\u001b[1;31mNameError\u001b[0m: name 'bins' is not defined"
     ]
    }
   ],
   "source": [
    "def pbc(d,L):\n",
    "    return d - L * ((d+L/2)//L)\n",
    "\n",
    "dr = 0.01\n",
    "def rdf(coords,L,dr):\n",
    "    rmax = L/2\n",
    "    nbins = int(rmax//dr)\n",
    "    r = numpy.array([i*dr for i in range(nbins)])    \n",
    "    bins = numpy.zeros(nbins)\n",
    "    for i,a in enumerate(coords[:-1]):#all but the last\n",
    "        for b in coords[i+1:]:\n",
    "            delta = b-a\n",
    "            for h in range(3):\n",
    "                delta[h] = pbc(delta[h],L)\n",
    "            d = numpy.absolute(numpy.linalg.norm(delta))\n",
    "            index = int(d//dr)\n",
    "            if index<nbins:\n",
    "                bins[index] += 1 \n",
    "    for i, b in enumerate(bins):\n",
    "        bins[i] /= N*(N-1)*numpy.pi*(4*numpy.square(dr*(i+1))*dr)/(2*V) #normalize by volume of annulus AND number of pairs\n",
    "    #Note: Number of Pairs is N*(N-1)/2 (Sum of numbers from 1 to N-1)    \n",
    "    return r, bins\n",
    "print(bins[i])\n",
    "r,bins = rdf(occupied, 5, dr)\n",
    "plt.plot(r,bins)\n",
    "plt.xlim([0,5])\n",
    "plt.ylim([0,5])\n",
    "plt.show()"
   ]
  },
  {
   "cell_type": "code",
   "execution_count": null,
   "metadata": {},
   "outputs": [],
   "source": [
    "# THE REST OF THE CELLS ARE JUST SCRATCH WORK\n",
    "# THE REST OF THE CELLS ARE JUST SCRATCH WORK\n",
    "# THE REST OF THE CELLS ARE JUST SCRATCH WORK\n",
    "# THE REST OF THE CELLS ARE JUST SCRATCH WORK\n",
    "# THE REST OF THE CELLS ARE JUST SCRATCH WORK"
   ]
  },
  {
   "cell_type": "code",
   "execution_count": null,
   "metadata": {},
   "outputs": [],
   "source": [
    "from mpl_toolkits.mplot3d import axes3d\n",
    "#visualize\n",
    "print(occupied)\n",
    "fig = plt.figure()\n",
    "ax = plt.axes(projection='3d')\n",
    "ax.scatter3D(occupied[:,0],occupied[:,1],occupied[:,2])\n",
    "ax.set_xlim3d(0,L)\n",
    "ax.set_ylim3d(0,L)\n",
    "ax.set_zlim3d(0,L)\n"
   ]
  },
  {
   "cell_type": "code",
   "execution_count": 278,
   "metadata": {},
   "outputs": [
    {
     "name": "stdout",
     "output_type": "stream",
     "text": [
      "10\n",
      "\n",
      "-0.6610999999999999\n",
      "0.43705320999999986\n",
      "0.1\n",
      "0.023896790000000008\n",
      "0.154585866106834\n"
     ]
    },
    {
     "ename": "AttributeError",
     "evalue": "'dict' object has no attribute 'append'",
     "output_type": "error",
     "traceback": [
      "\u001b[1;31m---------------------------------------------------------------------------\u001b[0m",
      "\u001b[1;31mAttributeError\u001b[0m                            Traceback (most recent call last)",
      "\u001b[1;32m<ipython-input-278-e83754bb2346>\u001b[0m in \u001b[0;36m<module>\u001b[1;34m\u001b[0m\n\u001b[0;32m     11\u001b[0m         \u001b[0mprint\u001b[0m\u001b[1;33m(\u001b[0m\u001b[1;33m(\u001b[0m\u001b[1;33m(\u001b[0m\u001b[0mresults\u001b[0m\u001b[1;33m[\u001b[0m\u001b[0mN\u001b[0m\u001b[1;33m]\u001b[0m\u001b[1;33m[\u001b[0m\u001b[0mi\u001b[0m\u001b[1;33m,\u001b[0m\u001b[1;36m1\u001b[0m\u001b[1;33m]\u001b[0m\u001b[1;33m)\u001b[0m\u001b[1;33m)\u001b[0m\u001b[1;33m)\u001b[0m\u001b[1;33m\u001b[0m\u001b[1;33m\u001b[0m\u001b[0m\n\u001b[0;32m     12\u001b[0m         \u001b[0mcv\u001b[0m \u001b[1;33m=\u001b[0m \u001b[1;33m(\u001b[0m\u001b[1;36m1\u001b[0m\u001b[1;33m/\u001b[0m\u001b[0mT\u001b[0m\u001b[1;33m**\u001b[0m\u001b[1;36m2\u001b[0m\u001b[1;33m)\u001b[0m\u001b[1;33m*\u001b[0m\u001b[1;33m(\u001b[0m\u001b[1;33m(\u001b[0m\u001b[0mnumpy\u001b[0m\u001b[1;33m.\u001b[0m\u001b[0msquare\u001b[0m\u001b[1;33m(\u001b[0m\u001b[0mresults\u001b[0m\u001b[1;33m[\u001b[0m\u001b[0mN\u001b[0m\u001b[1;33m]\u001b[0m\u001b[1;33m[\u001b[0m\u001b[0mi\u001b[0m\u001b[1;33m,\u001b[0m\u001b[1;36m0\u001b[0m\u001b[1;33m]\u001b[0m\u001b[1;33m)\u001b[0m\u001b[1;33m)\u001b[0m\u001b[1;33m)\u001b[0m\u001b[1;33m\u001b[0m\u001b[1;33m\u001b[0m\u001b[0m\n\u001b[1;32m---> 13\u001b[1;33m         \u001b[0mCv\u001b[0m\u001b[1;33m.\u001b[0m\u001b[0mappend\u001b[0m\u001b[1;33m(\u001b[0m\u001b[0mcv\u001b[0m\u001b[1;33m)\u001b[0m\u001b[1;33m\u001b[0m\u001b[1;33m\u001b[0m\u001b[0m\n\u001b[0m",
      "\u001b[1;31mAttributeError\u001b[0m: 'dict' object has no attribute 'append'"
     ]
    }
   ],
   "source": [
    "# Cv\n",
    "Cv = {}\n",
    "for N in Sizes:\n",
    "    print(N)\n",
    "    print('')\n",
    "    for i,T in enumerate(Temps):\n",
    "        print(results[N][i,0])\n",
    "        print((numpy.square(results[N][i,0])))\n",
    "        print(T)\n",
    "        print((numpy.square(results[N][i,1])))\n",
    "        print(((results[N][i,1])))\n",
    "        cv = (1/T**2)*((numpy.square(results[N][i,0])))\n",
    "        Cv.append(cv)"
   ]
  },
  {
   "cell_type": "code",
   "execution_count": null,
   "metadata": {},
   "outputs": [],
   "source": [
    "# Cv\n",
    "Cv = {}\n",
    "for N in Sizes:\n",
    "    cvonerun = []\n",
    "    #Cv[N] = numpy.array(cvonerun)\n",
    "    for i,T in enumerate(Temps):\n",
    "        cv = (1/T**2)*((numpy.square(results[N][i,1])))\n",
    "        cvonerun.append(cv)\n",
    "        Cv[N] = numpy.array(cvonerun)\n",
    "        \n",
    "\n",
    "print(Cv)\n",
    "print(Cv[10][:])\n"
   ]
  },
  {
   "cell_type": "code",
   "execution_count": 169,
   "metadata": {},
   "outputs": [
    {
     "name": "stdout",
     "output_type": "stream",
     "text": [
      "2\n",
      "\t 0.1\n",
      "\t 0.2\n",
      "\t 0.30000000000000004\n",
      "\t 0.4\n",
      "\t 0.5\n",
      "\t 0.6\n",
      "\t 0.7000000000000001\n",
      "\t 0.8\n",
      "\t 0.9\n",
      "\t 1.0\n",
      "\t 1.1\n",
      "\t 1.2000000000000002\n",
      "3\n",
      "\t 0.1\n",
      "\t 0.2\n",
      "\t 0.30000000000000004\n",
      "\t 0.4\n",
      "\t 0.5\n",
      "\t 0.6\n",
      "\t 0.7000000000000001\n",
      "\t 0.8\n",
      "\t 0.9\n",
      "\t 1.0\n",
      "\t 1.1\n",
      "\t 1.2000000000000002\n",
      "4\n",
      "\t 0.1\n",
      "\t 0.2\n",
      "\t 0.30000000000000004\n",
      "\t 0.4\n",
      "\t 0.5\n",
      "\t 0.6\n",
      "\t 0.7000000000000001\n",
      "\t 0.8\n",
      "\t 0.9\n",
      "\t 1.0\n",
      "\t 1.1\n",
      "\t 1.2000000000000002\n",
      "5\n",
      "\t 0.1\n",
      "\t 0.2\n",
      "\t 0.30000000000000004\n",
      "\t 0.4\n",
      "\t 0.5\n",
      "\t 0.6\n",
      "\t 0.7000000000000001\n",
      "\t 0.8\n",
      "\t 0.9\n",
      "\t 1.0\n",
      "\t 1.1\n",
      "\t 1.2000000000000002\n",
      "6\n",
      "\t 0.1\n",
      "\t 0.2\n",
      "\t 0.30000000000000004\n",
      "\t 0.4\n",
      "\t 0.5\n",
      "\t 0.6\n",
      "\t 0.7000000000000001\n",
      "\t 0.8\n",
      "\t 0.9\n",
      "\t 1.0\n",
      "\t 1.1\n",
      "\t 1.2000000000000002\n",
      "7\n",
      "\t 0.1\n",
      "\t 0.2\n",
      "\t 0.30000000000000004\n",
      "\t 0.4\n",
      "\t 0.5\n",
      "\t 0.6\n",
      "\t 0.7000000000000001\n",
      "\t 0.8\n",
      "\t 0.9\n",
      "\t 1.0\n",
      "\t 1.1\n",
      "\t 1.2000000000000002\n",
      "8\n",
      "\t 0.1\n",
      "\t 0.2\n",
      "\t 0.30000000000000004\n",
      "\t 0.4\n",
      "\t 0.5\n",
      "\t 0.6\n",
      "\t 0.7000000000000001\n",
      "\t 0.8\n",
      "\t 0.9\n",
      "\t 1.0\n",
      "\t 1.1\n",
      "\t 1.2000000000000002\n",
      "9\n",
      "\t 0.1\n",
      "\t 0.2\n",
      "\t 0.30000000000000004\n",
      "\t 0.4\n",
      "\t 0.5\n",
      "\t 0.6\n",
      "\t 0.7000000000000001\n",
      "\t 0.8\n",
      "\t 0.9\n",
      "\t 1.0\n",
      "\t 1.1\n",
      "\t 1.2000000000000002\n",
      "10\n",
      "\t 0.1\n",
      "\t 0.2\n",
      "\t 0.30000000000000004\n",
      "\t 0.4\n",
      "\t 0.5\n",
      "\t 0.6\n",
      "\t 0.7000000000000001\n",
      "\t 0.8\n",
      "\t 0.9\n",
      "\t 1.0\n",
      "\t 1.1\n",
      "\t 1.2000000000000002\n",
      "11\n",
      "\t 0.1\n",
      "\t 0.2\n",
      "\t 0.30000000000000004\n",
      "\t 0.4\n",
      "\t 0.5\n",
      "\t 0.6\n",
      "\t 0.7000000000000001\n",
      "\t 0.8\n",
      "\t 0.9\n",
      "\t 1.0\n",
      "\t 1.1\n",
      "\t 1.2000000000000002\n",
      "12\n",
      "\t 0.1\n",
      "\t 0.2\n",
      "\t 0.30000000000000004\n",
      "\t 0.4\n",
      "\t 0.5\n",
      "\t 0.6\n",
      "\t 0.7000000000000001\n",
      "\t 0.8\n",
      "\t 0.9\n",
      "\t 1.0\n",
      "\t 1.1\n",
      "\t 1.2000000000000002\n",
      "13\n",
      "\t 0.1\n",
      "\t 0.2\n",
      "\t 0.30000000000000004\n",
      "\t 0.4\n",
      "\t 0.5\n",
      "\t 0.6\n",
      "\t 0.7000000000000001\n",
      "\t 0.8\n",
      "\t 0.9\n",
      "\t 1.0\n",
      "\t 1.1\n",
      "\t 1.2000000000000002\n"
     ]
    }
   ],
   "source": [
    "Temps = numpy.arange(0.1,1.3,0.1) # Interesting range of temperatures to control movement of N particles MAKE THIS LEN=LEN(TIME)\n",
    "Length = range(2,14,1) # Sets our N values with (start,stop,resolution)\n",
    "results = {}\n",
    "for L in Length: # Every 1 length change, print results to look at\n",
    "    onerun = []\n",
    "    print(L)\n",
    "    for T in Temps:\n",
    "        print(\"\\t\",T)\n",
    "        occupied, lattice = init((L*L*L)//4,L) # N to be a quater of the volume always. Fixed density, L\n",
    "        start = time.time()\n",
    "        U = run(1e3,T,occupied, lattice)\n",
    "        a, s = analyze(U)\n",
    "        finish = time.time()\n",
    "        onerun.append((a,s,finish-start))\n",
    "        results[L] =  numpy.array(onerun)"
   ]
  },
  {
   "cell_type": "code",
   "execution_count": 173,
   "metadata": {},
   "outputs": [
    {
     "data": {
      "text/plain": [
       "Text(0.5, 1.0, 'Time to Complete Simulation compared to V from L^3 at density = 1/4')"
      ]
     },
     "execution_count": 173,
     "metadata": {},
     "output_type": "execute_result"
    },
    {
     "data": {
      "image/png": "[encoded data removed]",
      "text/plain": [
       "<Figure size 432x288 with 1 Axes>"
      ]
     },
     "metadata": {
      "needs_background": "light"
     },
     "output_type": "display_data"
    }
   ],
   "source": [
    "times = []\n",
    "for L in Length :\n",
    "    times.append((numpy.average(results[L][:,2]),numpy.std(results[L][:,2])))\n",
    "times = numpy.array(times)\n",
    "plt.errorbar(Temps,times[:,0],times[:,1])\n",
    "plt.xlabel(\"L\")\n",
    "plt.ylabel(\"<Seconds>\")\n",
    "plt.title('Time to Complete Simulation compared to V from L^3 at density = 1/4')"
   ]
  },
  {
   "cell_type": "code",
   "execution_count": 176,
   "metadata": {},
   "outputs": [
    {
     "ename": "KeyError",
     "evalue": "50",
     "output_type": "error",
     "traceback": [
      "\u001b[1;31m---------------------------------------------------------------------------\u001b[0m",
      "\u001b[1;31mKeyError\u001b[0m                                  Traceback (most recent call last)",
      "\u001b[1;32m<ipython-input-176-62fb1dda95db>\u001b[0m in \u001b[0;36m<module>\u001b[1;34m\u001b[0m\n\u001b[0;32m      1\u001b[0m \u001b[0mplt\u001b[0m\u001b[1;33m.\u001b[0m\u001b[0merrorbar\u001b[0m\u001b[1;33m(\u001b[0m\u001b[0mTemps\u001b[0m\u001b[1;33m,\u001b[0m\u001b[0mresults\u001b[0m\u001b[1;33m[\u001b[0m\u001b[1;36m10\u001b[0m\u001b[1;33m]\u001b[0m\u001b[1;33m[\u001b[0m\u001b[1;33m:\u001b[0m\u001b[1;33m,\u001b[0m\u001b[1;36m0\u001b[0m\u001b[1;33m]\u001b[0m\u001b[1;33m,\u001b[0m\u001b[0mresults\u001b[0m\u001b[1;33m[\u001b[0m\u001b[1;36m10\u001b[0m\u001b[1;33m]\u001b[0m\u001b[1;33m[\u001b[0m\u001b[1;33m:\u001b[0m\u001b[1;33m,\u001b[0m\u001b[1;36m1\u001b[0m\u001b[1;33m]\u001b[0m\u001b[1;33m)\u001b[0m\u001b[1;33m\u001b[0m\u001b[1;33m\u001b[0m\u001b[0m\n\u001b[1;32m----> 2\u001b[1;33m \u001b[0mplt\u001b[0m\u001b[1;33m.\u001b[0m\u001b[0merrorbar\u001b[0m\u001b[1;33m(\u001b[0m\u001b[0mTemps\u001b[0m\u001b[1;33m,\u001b[0m\u001b[0mresults\u001b[0m\u001b[1;33m[\u001b[0m\u001b[1;36m50\u001b[0m\u001b[1;33m]\u001b[0m\u001b[1;33m[\u001b[0m\u001b[1;33m:\u001b[0m\u001b[1;33m,\u001b[0m\u001b[1;36m0\u001b[0m\u001b[1;33m]\u001b[0m\u001b[1;33m,\u001b[0m\u001b[0mresults\u001b[0m\u001b[1;33m[\u001b[0m\u001b[1;36m50\u001b[0m\u001b[1;33m]\u001b[0m\u001b[1;33m[\u001b[0m\u001b[1;33m:\u001b[0m\u001b[1;33m,\u001b[0m\u001b[1;36m1\u001b[0m\u001b[1;33m]\u001b[0m\u001b[1;33m)\u001b[0m\u001b[1;33m\u001b[0m\u001b[1;33m\u001b[0m\u001b[0m\n\u001b[0m\u001b[0;32m      3\u001b[0m \u001b[0mplt\u001b[0m\u001b[1;33m.\u001b[0m\u001b[0merrorbar\u001b[0m\u001b[1;33m(\u001b[0m\u001b[0mTemps\u001b[0m\u001b[1;33m,\u001b[0m\u001b[0mresults\u001b[0m\u001b[1;33m[\u001b[0m\u001b[1;36m90\u001b[0m\u001b[1;33m]\u001b[0m\u001b[1;33m[\u001b[0m\u001b[1;33m:\u001b[0m\u001b[1;33m,\u001b[0m\u001b[1;36m0\u001b[0m\u001b[1;33m]\u001b[0m\u001b[1;33m,\u001b[0m\u001b[0mresults\u001b[0m\u001b[1;33m[\u001b[0m\u001b[1;36m90\u001b[0m\u001b[1;33m]\u001b[0m\u001b[1;33m[\u001b[0m\u001b[1;33m:\u001b[0m\u001b[1;33m,\u001b[0m\u001b[1;36m1\u001b[0m\u001b[1;33m]\u001b[0m\u001b[1;33m)\u001b[0m\u001b[1;33m\u001b[0m\u001b[1;33m\u001b[0m\u001b[0m\n\u001b[0;32m      4\u001b[0m \u001b[0mplt\u001b[0m\u001b[1;33m.\u001b[0m\u001b[0merrorbar\u001b[0m\u001b[1;33m(\u001b[0m\u001b[0mTemps\u001b[0m\u001b[1;33m,\u001b[0m\u001b[0mresults\u001b[0m\u001b[1;33m[\u001b[0m\u001b[1;36m110\u001b[0m\u001b[1;33m]\u001b[0m\u001b[1;33m[\u001b[0m\u001b[1;33m:\u001b[0m\u001b[1;33m,\u001b[0m\u001b[1;36m0\u001b[0m\u001b[1;33m]\u001b[0m\u001b[1;33m,\u001b[0m\u001b[0mresults\u001b[0m\u001b[1;33m[\u001b[0m\u001b[1;36m110\u001b[0m\u001b[1;33m]\u001b[0m\u001b[1;33m[\u001b[0m\u001b[1;33m:\u001b[0m\u001b[1;33m,\u001b[0m\u001b[1;36m1\u001b[0m\u001b[1;33m]\u001b[0m\u001b[1;33m)\u001b[0m\u001b[1;33m\u001b[0m\u001b[1;33m\u001b[0m\u001b[0m\n\u001b[0;32m      5\u001b[0m \u001b[0mplt\u001b[0m\u001b[1;33m.\u001b[0m\u001b[0mxlabel\u001b[0m\u001b[1;33m(\u001b[0m\u001b[1;34m\"L\"\u001b[0m\u001b[1;33m)\u001b[0m\u001b[1;33m\u001b[0m\u001b[1;33m\u001b[0m\u001b[0m\n",
      "\u001b[1;31mKeyError\u001b[0m: 50"
     ]
    },
    {
     "data": {
      "image/png": "[encoded data removed]",
      "text/plain": [
       "<Figure size 432x288 with 1 Axes>"
      ]
     },
     "metadata": {
      "needs_background": "light"
     },
     "output_type": "display_data"
    }
   ],
   "source": [
    "plt.errorbar(Temps,results[1][:,0],results[10][:,1])\n",
    "plt.errorbar(Temps,results[5][:,0],results[5][:,1])\n",
    "plt.errorbar(Temps,results[9][:,0],results[9][:,1])\n",
    "plt.errorbar(Temps,results[11][:,0],results[11][:,1])\n",
    "plt.xlabel(\"L\")\n",
    "plt.ylabel(\"<U>\")"
   ]
  },
  {
   "cell_type": "code",
   "execution_count": 202,
   "metadata": {
    "scrolled": false
   },
   "outputs": [
    {
     "ename": "AttributeError",
     "evalue": "'dict' object has no attribute 'shape'",
     "output_type": "error",
     "traceback": [
      "\u001b[1;31m---------------------------------------------------------------------------\u001b[0m",
      "\u001b[1;31mAttributeError\u001b[0m                            Traceback (most recent call last)",
      "\u001b[1;32m<ipython-input-202-7a07fe508af7>\u001b[0m in \u001b[0;36m<module>\u001b[1;34m\u001b[0m\n\u001b[0;32m      3\u001b[0m \u001b[0mf\u001b[0m \u001b[1;33m=\u001b[0m \u001b[0mU\u001b[0m\u001b[1;33m.\u001b[0m\u001b[0mshape\u001b[0m\u001b[1;33m\u001b[0m\u001b[1;33m\u001b[0m\u001b[0m\n\u001b[0;32m      4\u001b[0m \u001b[0mq\u001b[0m \u001b[1;33m=\u001b[0m \u001b[0mTemps\u001b[0m\u001b[1;33m.\u001b[0m\u001b[0mshape\u001b[0m\u001b[1;33m\u001b[0m\u001b[1;33m\u001b[0m\u001b[0m\n\u001b[1;32m----> 5\u001b[1;33m \u001b[0mep\u001b[0m \u001b[1;33m=\u001b[0m \u001b[0mresults\u001b[0m\u001b[1;33m.\u001b[0m\u001b[0mshape\u001b[0m\u001b[1;33m\u001b[0m\u001b[1;33m\u001b[0m\u001b[0m\n\u001b[0m\u001b[0;32m      6\u001b[0m \u001b[1;33m\u001b[0m\u001b[0m\n\u001b[0;32m      7\u001b[0m \u001b[1;31m#print(Temps)\u001b[0m\u001b[1;33m\u001b[0m\u001b[1;33m\u001b[0m\u001b[1;33m\u001b[0m\u001b[0m\n",
      "\u001b[1;31mAttributeError\u001b[0m: 'dict' object has no attribute 'shape'"
     ]
    }
   ],
   "source": [
    "# Cv\n",
    "# variance is std^2\n",
    "f = U.shape\n",
    "q = Temps.shape\n",
    "ep = results.shape\n",
    "\n",
    "#print(Temps)\n",
    "#print(numpy.var(U[:]))\n",
    "#print(U**2);\n",
    "#print(U)\n",
    "#print(numpy.square(U));\n",
    "print(f)\n",
    "print(q)\n",
    "print(ep)\n",
    "print(results)\n",
    "#for i,val in enumerate(Temps):\n",
    "#    print(i,val)\n",
    "#    Cv = (1/(Temps[val]^2))*(numpy.var(results[10][:,0]))\n"
   ]
  },
  {
   "cell_type": "code",
   "execution_count": null,
   "metadata": {},
   "outputs": [],
   "source": [
    "#THIS IS THE RDF SCRIPT\n",
    "\n",
    "import numpy\n",
    "import matplotlib.pyplot as plt\n",
    "%matplotlib inline\n",
    "N = 400 \n",
    "L = 10\n",
    "Lmin=-L/2\n",
    "Lmax = L/2\n",
    "V = L*L\n",
    "coords=numpy.random.uniform(low=Lmin, high=Lmax, size=(N,2))\n",
    "dr = 0.01\n",
    "\n",
    "plt.scatter(coords[:,0],coords[:,1])\n",
    "plt.xlim([Lmin,Lmax])\n",
    "plt.ylim([Lmin,Lmax])\n",
    "plt.grid()\n",
    "plt.axes().set_aspect(\"equal\")"
   ]
  },
  {
   "cell_type": "code",
   "execution_count": null,
   "metadata": {},
   "outputs": [],
   "source": [
    "import numpy\n",
    "import matplotlib.pyplot as plt\n",
    "%matplotlib inline\n",
    "N = 400 \n",
    "L = 10\n",
    "Lmin=-L/2\n",
    "Lmax = L/2\n",
    "V = L*L\n",
    "coords=numpy.random.uniform(low=Lmin, high=Lmax, size=(N,2))\n",
    "dr = 0.01\n",
    "\n",
    "plt.scatter(coords[:,0],coords[:,1])\n",
    "plt.xlim([Lmin,Lmax])\n",
    "plt.ylim([Lmin,Lmax])\n",
    "plt.grid()\n",
    "plt.axes().set_aspect(\"equal\")"
   ]
  },
  {
   "cell_type": "code",
   "execution_count": 79,
   "metadata": {},
   "outputs": [
    {
     "data": {
      "text/plain": [
       "(-2.3566, 0.04902904656841091)"
      ]
     },
     "execution_count": 79,
     "metadata": {},
     "output_type": "execute_result"
    }
   ],
   "source": [
    "analyze(U)"
   ]
  },
  {
   "cell_type": "code",
   "execution_count": 61,
   "metadata": {},
   "outputs": [
    {
     "name": "stdout",
     "output_type": "stream",
     "text": [
      "[-1.05  -1.05  -1.05  -1.05  -1.05  -1.075 -1.075 -1.075 -1.125 -1.125\n",
      " -1.125 -1.075 -1.075 -1.075 -1.075 -1.075 -1.075 -1.075 -1.15  -1.15\n",
      " -1.15  -1.15  -1.15  -1.175 -1.175 -1.2   -1.2   -1.175 -1.175 -1.2\n",
      " -1.2   -1.2   -1.2   -1.2   -1.2   -1.2   -1.225 -1.225 -1.225 -1.225\n",
      " -1.225 -1.225 -1.225 -1.225 -1.275 -1.275 -1.275 -1.275 -1.275 -1.275\n",
      " -1.275 -1.275 -1.275 -1.275 -1.275 -1.275 -1.275 -1.275 -1.275 -1.3\n",
      " -1.325 -1.325 -1.325 -1.325 -1.325 -1.325 -1.325 -1.325 -1.325 -1.325\n",
      " -1.325 -1.375 -1.375 -1.35  -1.35  -1.35  -1.35  -1.35  -1.35  -1.35\n",
      " -1.35  -1.325 -1.325 -1.35  -1.35  -1.35  -1.35  -1.35  -1.35  -1.35\n",
      " -1.35  -1.375 -1.375 -1.375 -1.375 -1.375 -1.375 -1.375 -1.375 -1.4\n",
      " -1.425 -1.45  -1.45  -1.45  -1.45  -1.5   -1.5   -1.525 -1.5   -1.5\n",
      " -1.5   -1.5   -1.5   -1.5   -1.5   -1.525 -1.525 -1.525 -1.525 -1.525\n",
      " -1.525 -1.525 -1.5   -1.525 -1.525 -1.5   -1.5   -1.525 -1.525 -1.525\n",
      " -1.525 -1.525 -1.525 -1.525 -1.55  -1.55  -1.55  -1.55  -1.5   -1.575\n",
      " -1.575 -1.55  -1.5   -1.5   -1.5   -1.5   -1.525 -1.475 -1.5   -1.5\n",
      " -1.5   -1.5   -1.5   -1.5   -1.5   -1.475 -1.475 -1.475 -1.475 -1.45\n",
      " -1.45  -1.475 -1.475 -1.475 -1.475 -1.5   -1.5   -1.5   -1.5   -1.5\n",
      " -1.5   -1.5   -1.5   -1.45  -1.45  -1.45  -1.45  -1.45  -1.45  -1.45\n",
      " -1.425 -1.425 -1.425 -1.425 -1.425 -1.45  -1.45  -1.475 -1.475 -1.475\n",
      " -1.475 -1.45  -1.4   -1.4   -1.4   -1.4   -1.375 -1.375 -1.375 -1.375\n",
      " -1.375 -1.375 -1.425 -1.425 -1.425 -1.425 -1.425 -1.425 -1.425 -1.5\n",
      " -1.5   -1.5   -1.55  -1.55  -1.55  -1.55  -1.525 -1.525 -1.525 -1.525\n",
      " -1.6   -1.6   -1.575 -1.575 -1.575 -1.575 -1.575 -1.575 -1.525 -1.5\n",
      " -1.475 -1.475 -1.5   -1.5   -1.5   -1.5   -1.475 -1.475 -1.475 -1.475\n",
      " -1.475 -1.475 -1.475 -1.5   -1.5   -1.5   -1.5   -1.475 -1.475 -1.5\n",
      " -1.5   -1.475 -1.475 -1.475 -1.475 -1.475 -1.425 -1.425 -1.425 -1.425\n",
      " -1.425 -1.425 -1.425 -1.425 -1.425 -1.475 -1.475 -1.475 -1.45  -1.45\n",
      " -1.45  -1.425 -1.425 -1.45  -1.45  -1.45  -1.45  -1.45  -1.45  -1.4\n",
      " -1.4   -1.4   -1.4   -1.4   -1.4   -1.4   -1.4   -1.4   -1.4   -1.4\n",
      " -1.45  -1.45  -1.45  -1.425 -1.4   -1.4   -1.4   -1.45  -1.45  -1.45\n",
      " -1.45  -1.475 -1.475 -1.475 -1.525 -1.525 -1.475 -1.45  -1.475 -1.475\n",
      " -1.475 -1.5   -1.45  -1.45  -1.45  -1.45  -1.45  -1.45  -1.425 -1.375\n",
      " -1.375 -1.375 -1.375 -1.275 -1.275 -1.275 -1.275 -1.275 -1.275 -1.3\n",
      " -1.3   -1.3   -1.3   -1.3   -1.3   -1.3   -1.225 -1.225 -1.225 -1.225\n",
      " -1.275 -1.275 -1.275 -1.275 -1.275 -1.3   -1.3   -1.275 -1.275 -1.275\n",
      " -1.275 -1.275 -1.25  -1.25  -1.25  -1.275 -1.275 -1.275 -1.275 -1.275\n",
      " -1.275 -1.275 -1.275 -1.275 -1.275 -1.3   -1.275 -1.275 -1.275 -1.275\n",
      " -1.275 -1.275 -1.275 -1.375 -1.35  -1.325 -1.325 -1.325 -1.325 -1.325\n",
      " -1.325 -1.3   -1.3   -1.3   -1.3   -1.275 -1.325 -1.3   -1.3   -1.3\n",
      " -1.3   -1.3   -1.275 -1.25  -1.25  -1.3   -1.325 -1.35  -1.35  -1.35\n",
      " -1.35  -1.325 -1.3   -1.325 -1.35  -1.35  -1.375 -1.375 -1.375 -1.375\n",
      " -1.375 -1.375 -1.375 -1.325 -1.325 -1.325 -1.3   -1.3   -1.3   -1.3\n",
      " -1.3   -1.35  -1.375 -1.375 -1.35  -1.35  -1.375 -1.375 -1.475 -1.475\n",
      " -1.475 -1.475 -1.475 -1.475 -1.55  -1.55  -1.55  -1.55  -1.55  -1.55\n",
      " -1.55  -1.55  -1.55  -1.55  -1.55  -1.55  -1.55  -1.6   -1.6   -1.6\n",
      " -1.6   -1.6   -1.6   -1.6   -1.6   -1.6   -1.6   -1.6   -1.55  -1.55\n",
      " -1.55  -1.55  -1.55  -1.55  -1.55  -1.55  -1.55  -1.55  -1.575 -1.575\n",
      " -1.575 -1.575 -1.575 -1.575 -1.575 -1.575 -1.575 -1.55  -1.55  -1.55\n",
      " -1.575 -1.575 -1.575 -1.575 -1.575 -1.575 -1.575 -1.575 -1.575 -1.575\n",
      " -1.575 -1.6   -1.6   -1.6   -1.6   -1.6   -1.6   -1.6   -1.6   -1.6\n",
      " -1.6   -1.6   -1.6   -1.6   -1.6   -1.6   -1.6   -1.6   -1.6   -1.6\n",
      " -1.65  -1.675 -1.675 -1.675 -1.675 -1.675 -1.675 -1.675 -1.675 -1.675\n",
      " -1.65  -1.65  -1.65  -1.65  -1.625 -1.625 -1.625 -1.625 -1.625 -1.625\n",
      " -1.625 -1.625 -1.625 -1.625 -1.575 -1.575 -1.55  -1.55  -1.55  -1.55\n",
      " -1.55  -1.55  -1.475 -1.525 -1.525 -1.525 -1.525 -1.525 -1.525 -1.525\n",
      " -1.525 -1.5   -1.5   -1.5   -1.5   -1.5   -1.475 -1.475 -1.475 -1.475\n",
      " -1.525 -1.525 -1.55  -1.55  -1.55  -1.55  -1.55  -1.55  -1.575 -1.575\n",
      " -1.55  -1.55  -1.575 -1.625 -1.625 -1.625 -1.625 -1.625 -1.625 -1.625\n",
      " -1.625 -1.625 -1.625 -1.625 -1.625 -1.625 -1.625 -1.625 -1.625 -1.625\n",
      " -1.625 -1.575 -1.575 -1.6   -1.6   -1.65  -1.65  -1.65  -1.65  -1.65\n",
      " -1.65  -1.65  -1.65  -1.65  -1.6   -1.6   -1.6   -1.625 -1.625 -1.625\n",
      " -1.625 -1.625 -1.625 -1.625 -1.625 -1.6   -1.6   -1.6   -1.6   -1.6\n",
      " -1.6   -1.6   -1.575 -1.575 -1.575 -1.575 -1.575 -1.575 -1.575 -1.575\n",
      " -1.575 -1.575 -1.575 -1.575 -1.575 -1.575 -1.575 -1.575 -1.575 -1.575\n",
      " -1.6   -1.6   -1.6   -1.6   -1.6   -1.6   -1.6   -1.6   -1.6   -1.625\n",
      " -1.625 -1.65  -1.65  -1.625 -1.625 -1.625 -1.625 -1.625 -1.625 -1.625\n",
      " -1.625 -1.625 -1.625 -1.6   -1.6   -1.6   -1.6   -1.6   -1.6   -1.6\n",
      " -1.6   -1.575 -1.575 -1.575 -1.575 -1.575 -1.55  -1.575 -1.625 -1.625\n",
      " -1.625 -1.625 -1.625 -1.625 -1.575 -1.575 -1.575 -1.575 -1.575 -1.525\n",
      " -1.525 -1.525 -1.55  -1.55  -1.525 -1.575 -1.6   -1.625 -1.625 -1.6\n",
      " -1.6   -1.6   -1.6   -1.6   -1.6   -1.575 -1.575 -1.575 -1.575 -1.575\n",
      " -1.575 -1.575 -1.6   -1.6   -1.575 -1.65  -1.6   -1.6   -1.6   -1.6\n",
      " -1.6   -1.625 -1.625 -1.55  -1.55  -1.475 -1.475 -1.475 -1.45  -1.475\n",
      " -1.475 -1.525 -1.525 -1.5   -1.6   -1.575 -1.575 -1.575 -1.575 -1.575\n",
      " -1.575 -1.575 -1.525 -1.525 -1.525 -1.525 -1.5   -1.475 -1.425 -1.425\n",
      " -1.4   -1.4   -1.4   -1.325 -1.325 -1.325 -1.325 -1.325 -1.325 -1.4\n",
      " -1.425 -1.425 -1.45  -1.5   -1.5   -1.5   -1.5   -1.575 -1.575 -1.575\n",
      " -1.575 -1.575 -1.575 -1.575 -1.575 -1.575 -1.575 -1.575 -1.6   -1.65\n",
      " -1.65  -1.65  -1.65  -1.625 -1.625 -1.625 -1.675 -1.675 -1.675 -1.675\n",
      " -1.675 -1.7   -1.7   -1.7   -1.7   -1.7   -1.7   -1.7   -1.7   -1.7\n",
      " -1.7   -1.7   -1.7   -1.7   -1.7   -1.675 -1.675 -1.65  -1.65  -1.675\n",
      " -1.675 -1.675 -1.6   -1.6   -1.625 -1.6   -1.6   -1.6   -1.6   -1.6\n",
      " -1.625 -1.575 -1.575 -1.575 -1.575 -1.55  -1.55  -1.475 -1.475 -1.45\n",
      " -1.45  -1.45  -1.45  -1.45  -1.45  -1.45  -1.45  -1.4   -1.35  -1.35\n",
      " -1.35  -1.35  -1.35  -1.3   -1.375 -1.375 -1.35  -1.35  -1.425 -1.425\n",
      " -1.425 -1.425 -1.425 -1.425 -1.45  -1.475 -1.475 -1.475 -1.45  -1.45\n",
      " -1.45  -1.45  -1.45  -1.45  -1.45  -1.45  -1.45  -1.45  -1.425 -1.45\n",
      " -1.45  -1.45  -1.45  -1.45  -1.45  -1.45  -1.45  -1.45  -1.425 -1.425\n",
      " -1.425 -1.425 -1.425 -1.425 -1.425 -1.425 -1.4   -1.4   -1.4   -1.4\n",
      " -1.4   -1.4   -1.4   -1.4   -1.425 -1.45  -1.425 -1.425 -1.425 -1.4\n",
      " -1.4   -1.425 -1.4   -1.375 -1.35  -1.35  -1.325 -1.35  -1.35  -1.35\n",
      " -1.35  -1.35  -1.35  -1.35  -1.35  -1.35  -1.35  -1.35  -1.35  -1.35\n",
      " -1.35  -1.35  -1.35  -1.35  -1.325 -1.325 -1.425 -1.425 -1.4   -1.4\n",
      " -1.4   -1.4   -1.4   -1.4   -1.4   -1.4   -1.4   -1.4   -1.4   -1.45\n",
      " -1.45  -1.45  -1.45  -1.45  -1.45  -1.45  -1.45  -1.45  -1.45  -1.45\n",
      " -1.45  -1.45  -1.45  -1.45  -1.475 -1.45  -1.425 -1.425 -1.425 -1.4\n",
      " -1.4   -1.475 -1.5   -1.5   -1.5   -1.5   -1.5   -1.5   -1.5   -1.5\n",
      " -1.525 -1.525 -1.525 -1.525 -1.525 -1.525 -1.525 -1.525 -1.525 -1.55\n",
      " -1.55  -1.55  -1.55  -1.55  -1.525 -1.525 -1.525 -1.55  -1.55  -1.55\n",
      " -1.55  -1.55  -1.55  -1.55  -1.55  -1.55  -1.525 -1.5   -1.5   -1.5  ]\n",
      "[[0.45314162 0.01849085]\n",
      " [0.81024792 0.01983153]\n",
      " [1.19606793 0.0555688 ]\n",
      " [1.56586273 0.01418591]]\n",
      "-1470.0499999999997\n",
      "-1.4700499999999996\n"
     ]
    }
   ],
   "source": [
    "#plt.plot(numpy.array(U)/len(occupied),N)\n",
    "print(U)\n",
    "print(times)\n",
    "print(numpy.sum(U))\n",
    "print(numpy.sum(U)/len(U))"
   ]
  },
  {
   "cell_type": "code",
   "execution_count": 30,
   "metadata": {},
   "outputs": [
    {
     "name": "stdout",
     "output_type": "stream",
     "text": [
      "[ 84  10  33 123  83   2 115  81  22 111]\n",
      "84\n",
      "3 1 4\n",
      "10\n",
      "0 2 0\n",
      "33\n",
      "1 1 3\n",
      "123\n",
      "4 4 3\n",
      "83\n",
      "3 1 3\n",
      "2\n",
      "0 0 2\n",
      "115\n",
      "4 3 0\n",
      "81\n",
      "3 1 1\n",
      "22\n",
      "0 4 2\n",
      "111\n",
      "4 2 1\n",
      "[[[ 0  0  6  0  0]\n",
      "  [ 0  0  0  0  0]\n",
      "  [ 2  0  0  0  0]\n",
      "  [ 0  0  0  0  0]\n",
      "  [ 0  0  9  0  0]]\n",
      "\n",
      " [[ 0  0  0  0  0]\n",
      "  [ 0  0  0  3  0]\n",
      "  [ 0  0  0  0  0]\n",
      "  [ 0  0  0  0  0]\n",
      "  [ 0  0  0  0  0]]\n",
      "\n",
      " [[ 0  0  0  0  0]\n",
      "  [ 0  0  0  0  0]\n",
      "  [ 0  0  0  0  0]\n",
      "  [ 0  0  0  0  0]\n",
      "  [ 0  0  0  0  0]]\n",
      "\n",
      " [[ 0  0  0  0  0]\n",
      "  [ 0  8  0  5  1]\n",
      "  [ 0  0  0  0  0]\n",
      "  [ 0  0  0  0  0]\n",
      "  [ 0  0  0  0  0]]\n",
      "\n",
      " [[ 0  0  0  0  0]\n",
      "  [ 0  0  0  0  0]\n",
      "  [ 0 10  0  0  0]\n",
      "  [ 7  0  0  0  0]\n",
      "  [ 0  0  0  4  0]]]\n"
     ]
    }
   ],
   "source": [
    "N=10\n",
    "L=5\n",
    "lattice = numpy.zeros((L,L,L),dtype=numpy.int8)#Initialize empty lattice\n",
    "occupied = numpy.random.choice(L*L*L,N,replace=False)\n",
    "print(occupied)\n",
    "for i,site in enumerate(occupied):\n",
    "    z,x,y = to3D(site,L)\n",
    "    lattice[z][x][y] = i+1\n",
    "    print(site)\n",
    "    print(z,x,y)\n",
    "print(lattice)"
   ]
  },
  {
   "cell_type": "code",
   "execution_count": 31,
   "metadata": {},
   "outputs": [
    {
     "name": "stdout",
     "output_type": "stream",
     "text": [
      "(80, 89, 109, 83, 79, 59)\n",
      "[ 84  10  33 123  83   2 115  81  22 111]\n"
     ]
    },
    {
     "ename": "IndexError",
     "evalue": "index -20 is out of bounds for axis 0 with size 5",
     "output_type": "error",
     "traceback": [
      "\u001b[1;31m---------------------------------------------------------------------------\u001b[0m",
      "\u001b[1;31mIndexError\u001b[0m                                Traceback (most recent call last)",
      "\u001b[1;32m<ipython-input-31-b0ce963de04c>\u001b[0m in \u001b[0;36m<module>\u001b[1;34m\u001b[0m\n\u001b[0;32m      5\u001b[0m         \u001b[0mprint\u001b[0m\u001b[1;33m(\u001b[0m\u001b[0madjacent\u001b[0m\u001b[1;33m(\u001b[0m\u001b[0msite\u001b[0m\u001b[1;33m,\u001b[0m\u001b[0mL\u001b[0m\u001b[1;33m)\u001b[0m\u001b[1;33m[\u001b[0m\u001b[1;33m:\u001b[0m\u001b[1;36m6\u001b[0m\u001b[1;33m]\u001b[0m\u001b[1;33m)\u001b[0m\u001b[1;33m\u001b[0m\u001b[1;33m\u001b[0m\u001b[0m\n\u001b[0;32m      6\u001b[0m         \u001b[0mprint\u001b[0m\u001b[1;33m(\u001b[0m\u001b[0moccupied\u001b[0m\u001b[1;33m)\u001b[0m\u001b[1;33m\u001b[0m\u001b[1;33m\u001b[0m\u001b[0m\n\u001b[1;32m----> 7\u001b[1;33m         \u001b[1;32mif\u001b[0m \u001b[0mlattice\u001b[0m\u001b[1;33m[\u001b[0m\u001b[0mneighbor\u001b[0m\u001b[1;33m//\u001b[0m\u001b[1;33m(\u001b[0m\u001b[0mL\u001b[0m\u001b[1;33m*\u001b[0m\u001b[0mL\u001b[0m\u001b[1;33m)\u001b[0m\u001b[1;33m]\u001b[0m\u001b[1;33m[\u001b[0m\u001b[1;33m(\u001b[0m\u001b[1;33m(\u001b[0m\u001b[0mneighbor\u001b[0m\u001b[1;33m//\u001b[0m\u001b[1;33m(\u001b[0m\u001b[0mL\u001b[0m\u001b[1;33m*\u001b[0m\u001b[0mL\u001b[0m\u001b[1;33m)\u001b[0m\u001b[1;33m)\u001b[0m\u001b[1;33m-\u001b[0m\u001b[1;33m(\u001b[0m\u001b[0mz\u001b[0m\u001b[1;33m*\u001b[0m\u001b[0mL\u001b[0m\u001b[1;33m*\u001b[0m\u001b[0mL\u001b[0m\u001b[1;33m)\u001b[0m\u001b[1;33m)\u001b[0m\u001b[1;33m//\u001b[0m\u001b[0mL\u001b[0m\u001b[1;33m]\u001b[0m\u001b[1;33m[\u001b[0m\u001b[1;33m(\u001b[0m\u001b[0mneighbor\u001b[0m\u001b[1;33m//\u001b[0m\u001b[1;33m(\u001b[0m\u001b[0mL\u001b[0m\u001b[1;33m*\u001b[0m\u001b[0mL\u001b[0m\u001b[1;33m)\u001b[0m\u001b[1;33m-\u001b[0m\u001b[1;33m(\u001b[0m\u001b[0mz\u001b[0m\u001b[1;33m*\u001b[0m\u001b[0mL\u001b[0m\u001b[1;33m*\u001b[0m\u001b[0mL\u001b[0m\u001b[1;33m)\u001b[0m\u001b[1;33m)\u001b[0m\u001b[1;33m%\u001b[0m\u001b[0mL\u001b[0m\u001b[1;33m]\u001b[0m \u001b[1;33m!=\u001b[0m \u001b[1;36m0\u001b[0m\u001b[1;33m:\u001b[0m\u001b[1;33m\u001b[0m\u001b[1;33m\u001b[0m\u001b[0m\n\u001b[0m\u001b[0;32m      8\u001b[0m                 \u001b[0mU\u001b[0m\u001b[1;33m+=\u001b[0m\u001b[0mepsilon\u001b[0m\u001b[1;33m\u001b[0m\u001b[1;33m\u001b[0m\u001b[0m\n\u001b[0;32m      9\u001b[0m                 \u001b[0mprint\u001b[0m\u001b[1;33m(\u001b[0m\u001b[1;34m\"U\"\u001b[0m\u001b[1;33m)\u001b[0m\u001b[1;33m\u001b[0m\u001b[1;33m\u001b[0m\u001b[0m\n",
      "\u001b[1;31mIndexError\u001b[0m: index -20 is out of bounds for axis 0 with size 5"
     ]
    }
   ],
   "source": [
    "U = 0\n",
    "L = len(lattice)\n",
    "for site in occupied: #loop over all sites\n",
    "    for neighbor in adjacent(site,L)[:3]: #Look right, down, and front so we  don't double count\n",
    "        print(adjacent(site,L)[:6])\n",
    "        print(occupied)\n",
    "        if lattice[neighbor//(L*L)][((neighbor//(L*L))-(z*L*L))//L][(neighbor//(L*L)-(z*L*L))%L] != 0:\n",
    "                U+=epsilon\n",
    "                print(\"U\")\n",
    "                print[\"hello\"]"
   ]
  },
  {
   "cell_type": "code",
   "execution_count": 32,
   "metadata": {},
   "outputs": [
    {
     "name": "stdout",
     "output_type": "stream",
     "text": [
      "[1]\n",
      "[20]\n",
      "[1]\n",
      "[20, 21]\n",
      "[1]\n",
      "[20, 21, 22]\n",
      "[1]\n",
      "[20, 21, 22, 23]\n",
      "[1]\n",
      "[20, 21, 22, 23, 24]\n",
      "[1, 2]\n",
      "[20, 21, 22, 23, 24, 20]\n",
      "[1, 2]\n",
      "[20, 21, 22, 23, 24, 20, 21]\n",
      "[1, 2]\n",
      "[20, 21, 22, 23, 24, 20, 21, 22]\n",
      "[1, 2]\n",
      "[20, 21, 22, 23, 24, 20, 21, 22, 23]\n",
      "[1, 2]\n",
      "[20, 21, 22, 23, 24, 20, 21, 22, 23, 24]\n"
     ]
    }
   ],
   "source": [
    "#nested loop testing\n",
    "x=[]\n",
    "y=[]\n",
    "for i in range(1,3):\n",
    "    x.append(i)\n",
    "    i = i+1\n",
    "    for j in range(20,25):\n",
    "        y.append(j)\n",
    "        print(x)\n",
    "        print(y)\n",
    "        j=j+1"
   ]
  },
  {
   "cell_type": "code",
   "execution_count": 509,
   "metadata": {},
   "outputs": [
    {
     "name": "stdout",
     "output_type": "stream",
     "text": [
      "2\n",
      "50\n",
      "1\n"
     ]
    }
   ],
   "source": [
    "site = 51\n",
    "L = 5\n",
    "z = site//(L*L)\n",
    "sitexy = site - (z*L*L)\n",
    "y = sitexy%L\n",
    "x = sitexy//L\n",
    "print(z)\n",
    "print(z*L*L)\n",
    "print(sitexy)\n"
   ]
  },
  {
   "cell_type": "code",
   "execution_count": 547,
   "metadata": {},
   "outputs": [
    {
     "name": "stdout",
     "output_type": "stream",
     "text": [
      "-8\n",
      "-5\n",
      "[[[  0   0   0   0   0]\n",
      "  [  0   0   0   0   0]\n",
      "  [  0   0   0   0   0]\n",
      "  [  0   0  17   0   0]\n",
      "  [  0   0   0   0   0]]\n",
      "\n",
      " [[  0   0   0   0   0]\n",
      "  [  0   0   0   0   0]\n",
      "  [  0   0   0   0   0]\n",
      "  [  0   0   0   0   0]\n",
      "  [  0   0   0   0  49]]\n",
      "\n",
      " [[  0   0 104   0   0]\n",
      "  [  0   0   0   0   0]\n",
      "  [  0   0   0   0   0]\n",
      "  [  0   0   0   0   0]\n",
      "  [  0   0  72   0   0]]\n",
      "\n",
      " [[  0   0   0   0   0]\n",
      "  [  0   0  82   0   0]\n",
      "  [  0  86   0   0   0]\n",
      "  [  0   0   0   0   0]\n",
      "  [  0   0  97  98   0]]\n",
      "\n",
      " [[  0   0   0   0   0]\n",
      "  [  0   0   0   0   0]\n",
      "  [  0   0   0   0   0]\n",
      "  [  0   0   0   0   0]\n",
      "  [120   0   0   0   0]]]\n"
     ]
    },
    {
     "ename": "SyntaxError",
     "evalue": "'return' outside function (<ipython-input-547-a267605f963a>, line 17)",
     "output_type": "error",
     "traceback": [
      "\u001b[1;36m  File \u001b[1;32m\"<ipython-input-547-a267605f963a>\"\u001b[1;36m, line \u001b[1;32m17\u001b[0m\n\u001b[1;33m    return occupied, lattice, Un\u001b[0m\n\u001b[1;37m    ^\u001b[0m\n\u001b[1;31mSyntaxError\u001b[0m\u001b[1;31m:\u001b[0m 'return' outside function\n"
     ]
    }
   ],
   "source": [
    "L=len(lattice)\n",
    "V = L*L*L\n",
    "Uo = energy(occupied,lattice)\n",
    "print(Uo)\n",
    "numpy.random.shuffle(occupied) #shuffles the elements of occupied\n",
    "old = occupied[0]\n",
    "empty_mask = numpy.isin(numpy.arange(V),occupied,invert=True)\n",
    "empty_sites = numpy.arange(V)[empty_mask] # list of empty sites\n",
    "new = empty_sites[numpy.random.randint(len(empty_sites))]\n",
    "occupied[0]= new\n",
    "lattice[new//(L*L)][((new//(L*L))-(z*L*L))//L][(new//(L*L)-(z*L*L))%L] = lattice[old//(L*L)][((old//(L*L))-(z*L*L))//L][(old//(L*L)-(z*L*L))%L]\n",
    "lattice[old//(L*L)][((old//(L*L))-(z*L*L))//L][(old//(L*L)-(z*L*L))%L] = 0\n",
    "Un = energy(occupied,lattice)\n",
    "print(Un)\n",
    "print(lattice)\n",
    "if (Un<=Uo) or numpy.random.random() < numpy.exp(-(Un-Uo)/T):\n",
    "    return occupied, lattice, Un\n",
    "    lattice[old//(L*L)][((old//(L*L))-(z*L*L))//L][(old//(L*L)-(z*L*L))%L] = attice[new//(L*L)][((new//(L*L))-(z*L*L))//L][(new//(L*L)-(z*L*L))%L]\n",
    "    attice[new//(L*L)][((new//(L*L))-(z*L*L))//L][(new//(L*L)-(z*L*L))%L] = 0\n",
    "    occupied[0]=old\n",
    "\n"
   ]
  },
  {
   "cell_type": "code",
   "execution_count": 515,
   "metadata": {},
   "outputs": [
    {
     "ename": "IndexError",
     "evalue": "index -20 is out of bounds for axis 0 with size 10",
     "output_type": "error",
     "traceback": [
      "\u001b[1;31m---------------------------------------------------------------------------\u001b[0m",
      "\u001b[1;31mIndexError\u001b[0m                                Traceback (most recent call last)",
      "\u001b[1;32m<ipython-input-515-f9ff4c46134e>\u001b[0m in \u001b[0;36m<module>\u001b[1;34m\u001b[0m\n\u001b[0;32m      3\u001b[0m \u001b[1;32mfor\u001b[0m \u001b[0msite\u001b[0m \u001b[1;32min\u001b[0m \u001b[0moccupied\u001b[0m\u001b[1;33m:\u001b[0m \u001b[1;31m#loop over all sites\u001b[0m\u001b[1;33m\u001b[0m\u001b[1;33m\u001b[0m\u001b[0m\n\u001b[0;32m      4\u001b[0m     \u001b[1;32mfor\u001b[0m \u001b[0mneighbor\u001b[0m \u001b[1;32min\u001b[0m \u001b[0madjacent\u001b[0m\u001b[1;33m(\u001b[0m\u001b[0msite\u001b[0m\u001b[1;33m,\u001b[0m\u001b[0mL\u001b[0m\u001b[1;33m)\u001b[0m\u001b[1;33m[\u001b[0m\u001b[1;33m:\u001b[0m\u001b[1;36m3\u001b[0m\u001b[1;33m]\u001b[0m\u001b[1;33m:\u001b[0m \u001b[1;31m#Look right,down, front to avoid double counting\u001b[0m\u001b[1;33m\u001b[0m\u001b[1;33m\u001b[0m\u001b[0m\n\u001b[1;32m----> 5\u001b[1;33m         \u001b[1;32mif\u001b[0m \u001b[0mlattice\u001b[0m\u001b[1;33m[\u001b[0m\u001b[0mneighbor\u001b[0m\u001b[1;33m//\u001b[0m\u001b[1;33m(\u001b[0m\u001b[0mL\u001b[0m\u001b[1;33m*\u001b[0m\u001b[0mL\u001b[0m\u001b[1;33m)\u001b[0m\u001b[1;33m]\u001b[0m\u001b[1;33m[\u001b[0m\u001b[1;33m(\u001b[0m\u001b[1;33m(\u001b[0m\u001b[0mneighbor\u001b[0m\u001b[1;33m//\u001b[0m\u001b[1;33m(\u001b[0m\u001b[0mL\u001b[0m\u001b[1;33m*\u001b[0m\u001b[0mL\u001b[0m\u001b[1;33m)\u001b[0m\u001b[1;33m)\u001b[0m\u001b[1;33m-\u001b[0m\u001b[1;33m(\u001b[0m\u001b[0mz\u001b[0m\u001b[1;33m*\u001b[0m\u001b[0mL\u001b[0m\u001b[1;33m*\u001b[0m\u001b[0mL\u001b[0m\u001b[1;33m)\u001b[0m\u001b[1;33m)\u001b[0m\u001b[1;33m//\u001b[0m\u001b[0mL\u001b[0m\u001b[1;33m]\u001b[0m\u001b[1;33m[\u001b[0m\u001b[1;33m(\u001b[0m\u001b[0mneighbor\u001b[0m\u001b[1;33m//\u001b[0m\u001b[1;33m(\u001b[0m\u001b[0mL\u001b[0m\u001b[1;33m*\u001b[0m\u001b[0mL\u001b[0m\u001b[1;33m)\u001b[0m\u001b[1;33m-\u001b[0m\u001b[1;33m(\u001b[0m\u001b[0mz\u001b[0m\u001b[1;33m*\u001b[0m\u001b[0mL\u001b[0m\u001b[1;33m*\u001b[0m\u001b[0mL\u001b[0m\u001b[1;33m)\u001b[0m\u001b[1;33m)\u001b[0m\u001b[1;33m%\u001b[0m\u001b[0mL\u001b[0m\u001b[1;33m]\u001b[0m \u001b[1;33m!=\u001b[0m \u001b[1;36m0\u001b[0m\u001b[1;33m:\u001b[0m\u001b[1;33m\u001b[0m\u001b[1;33m\u001b[0m\u001b[0m\n\u001b[0m\u001b[0;32m      6\u001b[0m             \u001b[0mU\u001b[0m\u001b[1;33m+=\u001b[0m\u001b[0mepsilon\u001b[0m\u001b[1;33m\u001b[0m\u001b[1;33m\u001b[0m\u001b[0m\n",
      "\u001b[1;31mIndexError\u001b[0m: index -20 is out of bounds for axis 0 with size 10"
     ]
    }
   ],
   "source": [
    "U = 0\n",
    "L = len(lattice)\n",
    "for site in occupied: #loop over all sites\n",
    "    for neighbor in adjacent(site,L)[:3]: #Look right,down, front to avoid double counting\n",
    "        if lattice[neighbor//(L*L)][((neighbor//(L*L))-(z*L*L))//L][(neighbor//(L*L)-(z*L*L))%L] != 0:\n",
    "            U+=epsilon"
   ]
  },
  {
   "cell_type": "code",
   "execution_count": 70,
   "metadata": {},
   "outputs": [
    {
     "ename": "IndexError",
     "evalue": "index -20 is out of bounds for axis 0 with size 5",
     "output_type": "error",
     "traceback": [
      "\u001b[1;31m---------------------------------------------------------------------------\u001b[0m",
      "\u001b[1;31mIndexError\u001b[0m                                Traceback (most recent call last)",
      "\u001b[1;32m<ipython-input-70-f2aacd32e023>\u001b[0m in \u001b[0;36m<module>\u001b[1;34m\u001b[0m\n\u001b[0;32m      1\u001b[0m \u001b[0mL\u001b[0m\u001b[1;33m=\u001b[0m\u001b[0mlen\u001b[0m\u001b[1;33m(\u001b[0m\u001b[0mlattice\u001b[0m\u001b[1;33m)\u001b[0m\u001b[1;33m\u001b[0m\u001b[1;33m\u001b[0m\u001b[0m\n\u001b[0;32m      2\u001b[0m \u001b[0mV\u001b[0m \u001b[1;33m=\u001b[0m \u001b[0mL\u001b[0m\u001b[1;33m*\u001b[0m\u001b[0mL\u001b[0m\u001b[1;33m*\u001b[0m\u001b[0mL\u001b[0m\u001b[1;33m\u001b[0m\u001b[1;33m\u001b[0m\u001b[0m\n\u001b[1;32m----> 3\u001b[1;33m \u001b[0mUo\u001b[0m \u001b[1;33m=\u001b[0m \u001b[0menergy\u001b[0m\u001b[1;33m(\u001b[0m\u001b[0moccupied\u001b[0m\u001b[1;33m,\u001b[0m\u001b[0mlattice\u001b[0m\u001b[1;33m)\u001b[0m\u001b[1;33m\u001b[0m\u001b[1;33m\u001b[0m\u001b[0m\n\u001b[0m\u001b[0;32m      4\u001b[0m \u001b[0mnumpy\u001b[0m\u001b[1;33m.\u001b[0m\u001b[0mrandom\u001b[0m\u001b[1;33m.\u001b[0m\u001b[0mshuffle\u001b[0m\u001b[1;33m(\u001b[0m\u001b[0moccupied\u001b[0m\u001b[1;33m)\u001b[0m \u001b[1;31m#shuffles the elements of occupied\u001b[0m\u001b[1;33m\u001b[0m\u001b[1;33m\u001b[0m\u001b[0m\n\u001b[0;32m      5\u001b[0m \u001b[0mold\u001b[0m \u001b[1;33m=\u001b[0m \u001b[0moccupied\u001b[0m\u001b[1;33m[\u001b[0m\u001b[1;36m0\u001b[0m\u001b[1;33m]\u001b[0m\u001b[1;33m\u001b[0m\u001b[1;33m\u001b[0m\u001b[0m\n",
      "\u001b[1;32m<ipython-input-45-cd7d79f32f5f>\u001b[0m in \u001b[0;36menergy\u001b[1;34m(occupied, lattice, epsilon)\u001b[0m\n\u001b[0;32m     45\u001b[0m         \u001b[1;32mfor\u001b[0m \u001b[0mneighbor\u001b[0m \u001b[1;32min\u001b[0m \u001b[0madjacent\u001b[0m\u001b[1;33m(\u001b[0m\u001b[0msite\u001b[0m\u001b[1;33m,\u001b[0m\u001b[0mL\u001b[0m\u001b[1;33m)\u001b[0m\u001b[1;33m[\u001b[0m\u001b[1;33m:\u001b[0m\u001b[1;36m3\u001b[0m\u001b[1;33m]\u001b[0m\u001b[1;33m:\u001b[0m \u001b[1;31m#Look right,down, front to avoid double counting\u001b[0m\u001b[1;33m\u001b[0m\u001b[1;33m\u001b[0m\u001b[0m\n\u001b[0;32m     46\u001b[0m             \u001b[0mz\u001b[0m\u001b[1;33m,\u001b[0m\u001b[0mx\u001b[0m\u001b[1;33m,\u001b[0m\u001b[0my\u001b[0m \u001b[1;33m=\u001b[0m \u001b[0mto3D\u001b[0m\u001b[1;33m(\u001b[0m\u001b[0msite\u001b[0m\u001b[1;33m,\u001b[0m\u001b[0mL\u001b[0m\u001b[1;33m)\u001b[0m \u001b[1;31m# this finds the z,y,x coordinate of the site wrt the site number\u001b[0m\u001b[1;33m\u001b[0m\u001b[1;33m\u001b[0m\u001b[0m\n\u001b[1;32m---> 47\u001b[1;33m             \u001b[1;32mif\u001b[0m \u001b[0mlattice\u001b[0m\u001b[1;33m[\u001b[0m\u001b[0mneighbor\u001b[0m\u001b[1;33m//\u001b[0m\u001b[1;33m(\u001b[0m\u001b[0mL\u001b[0m\u001b[1;33m*\u001b[0m\u001b[0mL\u001b[0m\u001b[1;33m)\u001b[0m\u001b[1;33m]\u001b[0m\u001b[1;33m[\u001b[0m\u001b[1;33m(\u001b[0m\u001b[1;33m(\u001b[0m\u001b[0mneighbor\u001b[0m\u001b[1;33m//\u001b[0m\u001b[1;33m(\u001b[0m\u001b[0mL\u001b[0m\u001b[1;33m*\u001b[0m\u001b[0mL\u001b[0m\u001b[1;33m)\u001b[0m\u001b[1;33m)\u001b[0m\u001b[1;33m-\u001b[0m\u001b[1;33m(\u001b[0m\u001b[0mz\u001b[0m\u001b[1;33m*\u001b[0m\u001b[0mL\u001b[0m\u001b[1;33m*\u001b[0m\u001b[0mL\u001b[0m\u001b[1;33m)\u001b[0m\u001b[1;33m)\u001b[0m\u001b[1;33m//\u001b[0m\u001b[0mL\u001b[0m\u001b[1;33m]\u001b[0m\u001b[1;33m[\u001b[0m\u001b[1;33m(\u001b[0m\u001b[0mneighbor\u001b[0m\u001b[1;33m//\u001b[0m\u001b[1;33m(\u001b[0m\u001b[0mL\u001b[0m\u001b[1;33m*\u001b[0m\u001b[0mL\u001b[0m\u001b[1;33m)\u001b[0m\u001b[1;33m-\u001b[0m\u001b[1;33m(\u001b[0m\u001b[0mz\u001b[0m\u001b[1;33m*\u001b[0m\u001b[0mL\u001b[0m\u001b[1;33m*\u001b[0m\u001b[0mL\u001b[0m\u001b[1;33m)\u001b[0m\u001b[1;33m)\u001b[0m\u001b[1;33m%\u001b[0m\u001b[0mL\u001b[0m\u001b[1;33m]\u001b[0m \u001b[1;33m!=\u001b[0m \u001b[1;36m0\u001b[0m\u001b[1;33m:\u001b[0m\u001b[1;33m\u001b[0m\u001b[1;33m\u001b[0m\u001b[0m\n\u001b[0m\u001b[0;32m     48\u001b[0m                 \u001b[0mU\u001b[0m\u001b[1;33m+=\u001b[0m\u001b[0mepsilon\u001b[0m\u001b[1;33m\u001b[0m\u001b[1;33m\u001b[0m\u001b[0m\n\u001b[0;32m     49\u001b[0m \u001b[1;33m\u001b[0m\u001b[0m\n",
      "\u001b[1;31mIndexError\u001b[0m: index -20 is out of bounds for axis 0 with size 5"
     ]
    }
   ],
   "source": [
    "L=len(lattice)\n",
    "V = L*L*L\n",
    "Uo = energy(occupied,lattice)\n",
    "numpy.random.shuffle(occupied) #shuffles the elements of occupied\n",
    "old = occupied[0]\n",
    "empty_mask = numpy.isin(numpy.arange(V),occupied,invert=True)\n",
    "empty_sites = numpy.arange(V)[empty_mask] # list of empty sites\n",
    "new = empty_sites[numpy.random.randint(len(empty_sites))]\n",
    "occupied[0]= new\n",
    "lattice[new//(L*L)][((new//(L*L))-(z*L*L))//L][(new//(L*L)-(z*L*L))%L] = lattice[old//(L*L)][((old//(L*L))-(z*L*L))//L][(old//(L*L)-(z*L*L))%L]\n",
    "lattice[old//(L*L)][((old//(L*L))-(z*L*L))//L][(old//(L*L)-(z*L*L))%L] = 0\n",
    "Un = energy(occupied,lattice)\n",
    "if (Un<=Uo) or numpy.random.random() < numpy.exp(-(Un-Uo)/T):\n",
    "    print(occupied, lattice, Un)\n",
    "lattice[old//(L*L)][((old//(L*L))-(z*L*L))//L][(old//(L*L)-(z*L*L))%L] = lattice[new//(L*L)][((new//(L*L))-(z*L*L))//L][(new//(L*L)-(z*L*L))%L]\n",
    "lattice[new//(L*L)][((new//(L*L))-(z*L*L))//L][(new//(L*L)-(z*L*L))%L] = 0\n",
    "occupied[0]=old\n",
    "\n"
   ]
  },
  {
   "cell_type": "code",
   "execution_count": null,
   "metadata": {},
   "outputs": [],
   "source": [
    "if (Un<=Uo) or numpy.random.random() < numpy.exp(-(Un-Uo)/T):\n",
    "    return occupied, lattice, Un\n",
    "lattice[old//(L*L)][((old//(L*L))-(z*L*L))//L][(old//(L*L)-(z*L*L))%L] = lattice[new//(L*L)][((new//(L*L))-(z*L*L))//L][(new//(L*L)-(z*L*L))%L]\n",
    "lattice[new//(L*L)][((new//(L*L))-(z*L*L))//L][(new//(L*L)-(z*L*L))%L] = 0\n",
    "occupied[0]=old\n"
   ]
  },
  {
   "cell_type": "code",
   "execution_count": 4,
   "metadata": {},
   "outputs": [
    {
     "name": "stdout",
     "output_type": "stream",
     "text": [
      "[ 16  66  41  81  61  11  99  38  49 120]\n",
      "0 3 2\n",
      "0 4 1\n",
      "1 3 1\n",
      "-1\n",
      "2 3 2\n",
      "2 4 1\n",
      "3 3 1\n",
      "1 3 2\n",
      "1 4 1\n",
      "2 3 1\n",
      "-2\n",
      "3 1 2\n",
      "3 2 1\n",
      "4 1 1\n",
      "2 2 2\n",
      "2 3 1\n",
      "-3\n",
      "3 2 1\n",
      "0 2 2\n",
      "0 3 1\n",
      "-4\n",
      "1 2 1\n",
      "3 4 0\n",
      "3 0 4\n",
      "4 4 4\n",
      "1 2 4\n",
      "1 3 3\n",
      "2 2 3\n",
      "1 4 0\n",
      "1 0 4\n",
      "2 4 4\n",
      "4 4 1\n",
      "4 0 0\n",
      "0 4 0\n"
     ]
    }
   ],
   "source": [
    "U = 0\n",
    "epsilon = -1\n",
    "L = 5\n",
    "#print(lattice)\n",
    "print(occupied)\n",
    "for site in occupied: #loop over all sites\n",
    "    for neighbor in adjacent(site,L)[:3]: #Look right,down, front to avoid double counting\n",
    "        z,x,y = to3D(neighbor,L) # this finds the z,y,x coordinate of the site wrt the site number\n",
    "        print(z,x,y)\n",
    "        #print(site)\n",
    "        #print(adjacent(site,L)[:3])\n",
    "        #print(z,x,y,L)\n",
    "        #print(\"neighbor \"+str(neighbor))\n",
    "        #print((neighbor-(z*L*L))%L)\n",
    "        #print(\"z is \"+str((neighbor//(L*L))))\n",
    "        #print(\"x is \"+str((neighbor-(z*L*L))//L))\n",
    "        #print(\"y is \"+str((neighbor-(z*L*L))%L))\n",
    "        if lattice[neighbor//(L*L)][(neighbor-(z*L*L))//L][(neighbor-(z*L*L))%L] != 0:\n",
    "            U+=epsilon\n",
    "            print(U)\n",
    "                "
   ]
  },
  {
   "cell_type": "code",
   "execution_count": 59,
   "metadata": {},
   "outputs": [
    {
     "data": {
      "text/plain": [
       "(117, 121, 16, 115, 111, 91)"
      ]
     },
     "execution_count": 59,
     "metadata": {},
     "output_type": "execute_result"
    }
   ],
   "source": [
    "adjacent(116,5)[:]"
   ]
  },
  {
   "cell_type": "code",
   "execution_count": 57,
   "metadata": {},
   "outputs": [
    {
     "data": {
      "text/plain": [
       "4"
      ]
     },
     "execution_count": 57,
     "metadata": {},
     "output_type": "execute_result"
    }
   ],
   "source": [
    "106//(L*L)"
   ]
  },
  {
   "cell_type": "code",
   "execution_count": 82,
   "metadata": {},
   "outputs": [
    {
     "name": "stdout",
     "output_type": "stream",
     "text": [
      "2\n"
     ]
    },
    {
     "data": {
      "text/plain": [
       "1"
      ]
     },
     "execution_count": 82,
     "metadata": {},
     "output_type": "execute_result"
    }
   ],
   "source": [
    "print(z)\n",
    "(106-(z*L*L))%L"
   ]
  },
  {
   "cell_type": "code",
   "execution_count": 64,
   "metadata": {},
   "outputs": [
    {
     "data": {
      "text/plain": [
       "1"
      ]
     },
     "execution_count": 64,
     "metadata": {},
     "output_type": "execute_result"
    }
   ],
   "source": [
    "(106-(z*L*L))//L"
   ]
  },
  {
   "cell_type": "code",
   "execution_count": 95,
   "metadata": {},
   "outputs": [
    {
     "name": "stdout",
     "output_type": "stream",
     "text": [
      "4 5\n",
      "-19\n"
     ]
    }
   ],
   "source": [
    "neighbor=5\n",
    "z=4\n",
    "print(z,L)\n",
    "print((neighbor-(z*L*L))//L)\n"
   ]
  },
  {
   "cell_type": "code",
   "execution_count": 53,
   "metadata": {},
   "outputs": [
    {
     "data": {
      "text/plain": [
       "3"
      ]
     },
     "execution_count": 53,
     "metadata": {},
     "output_type": "execute_result"
    }
   ],
   "source": [
    "(116-(4*5*5))//5"
   ]
  },
  {
   "cell_type": "code",
   "execution_count": 50,
   "metadata": {},
   "outputs": [
    {
     "data": {
      "text/plain": [
       "1"
      ]
     },
     "execution_count": 50,
     "metadata": {},
     "output_type": "execute_result"
    }
   ],
   "source": [
    "(116-(4*5*5))%5"
   ]
  },
  {
   "cell_type": "code",
   "execution_count": 62,
   "metadata": {},
   "outputs": [
    {
     "data": {
      "text/plain": [
       "(4, 3, 1)"
      ]
     },
     "execution_count": 62,
     "metadata": {},
     "output_type": "execute_result"
    }
   ],
   "source": [
    "to3D(116,5)"
   ]
  },
  {
   "cell_type": "markdown",
   "metadata": {},
   "source": [
    "occupied,lattice = init(25,5)"
   ]
  },
  {
   "cell_type": "code",
   "execution_count": 13,
   "metadata": {},
   "outputs": [],
   "source": [
    "occupied,lattice = init(124,5)"
   ]
  },
  {
   "cell_type": "code",
   "execution_count": 14,
   "metadata": {},
   "outputs": [
    {
     "data": {
      "text/plain": [
       "(array([  1,  21, 112,  12,  16,  75, 107,  69,  79,  61,  37,  19, 115,\n",
       "         30,  81,  93,  74, 117,   9,  66,  17,  47, 110,  57,  39,  78,\n",
       "         18,  60,  13,  28,   5,  95,  98, 121,  80, 100, 103,   6,  67,\n",
       "        106,  65,  84,  62,  99, 104,  53,  77,  29,   7,  46,   8,  91,\n",
       "        122,  90,  48,  35,  89,  25,   2, 123,  73, 119, 120,   0, 105,\n",
       "         23,  24,  59,  70,  36,  14,  96,  44, 116,   3,  71,  42,  32,\n",
       "         26,  83,  10,  45,  22,  41,  94, 102,  92,  55,  56, 111,  15,\n",
       "        108,  58,  34,  33,  27,  86,  85,   4,  63,  87,  64,  52, 118,\n",
       "         49, 101,  50,  40,  11,  38, 124,  43,  54, 113, 114,  68,  20,\n",
       "         97,  72,  31,  88,  51,  76, 109]), array([[[102,  71, 108,   4,  81],\n",
       "         [ 75,  67,  54,  35,  89],\n",
       "         [123,  64,  11,  97,   2],\n",
       "         [ 93, 117,  43,  49,  45],\n",
       "         [112, 103,  70, 124,  96]],\n",
       " \n",
       "        [[ 83,  84, 107,  78,  61],\n",
       "         [ 69,  42,   9, 118,  98],\n",
       "         [ 39,  27,   6,  58, 120],\n",
       "         [ 46,  13,  20,  37,  36],\n",
       "         [119, 100,  48, 122,  19]],\n",
       " \n",
       "        [[ 94,  44,  53,  21,  95],\n",
       "         [ 90,  10, 113,  80, 121],\n",
       "         [109,  17,  85, 110,  25],\n",
       "         [ 22,   7,  63,  68,   1],\n",
       "         [ 23,  52,  50,  88,  72]],\n",
       " \n",
       "        [[  5,  56, 106,  41,  92],\n",
       "         [ 66,  24,   0,  86,  31],\n",
       "         [ 65,  26,  32,  30,  40],\n",
       "         [ 79,  15, 111, 101, 116],\n",
       "         [ 60,  91,  29,  47,  18]],\n",
       " \n",
       "        [[ 51,  14,   8,  38,  55],\n",
       "         [ 87,  62, 105,  74,  99],\n",
       "         [ 16, 115,  73,   3,  76],\n",
       "         [104,  28,  34,  33,  59],\n",
       "         [ 82, 114,  57,  77,  12]]], dtype=int8), -369)"
      ]
     },
     "execution_count": 14,
     "metadata": {},
     "output_type": "execute_result"
    }
   ],
   "source": [
    "trial_move(occupied,lattice,0.5)"
   ]
  },
  {
   "cell_type": "code",
   "execution_count": 15,
   "metadata": {},
   "outputs": [
    {
     "data": {
      "text/plain": [
       "-2.975806451612903"
      ]
     },
     "execution_count": 15,
     "metadata": {},
     "output_type": "execute_result"
    }
   ],
   "source": [
    "-369/124"
   ]
  },
  {
   "cell_type": "code",
   "execution_count": 19,
   "metadata": {},
   "outputs": [
    {
     "ename": "TypeError",
     "evalue": "cannot unpack non-iterable NoneType object",
     "output_type": "error",
     "traceback": [
      "\u001b[1;31m---------------------------------------------------------------------------\u001b[0m",
      "\u001b[1;31mTypeError\u001b[0m                                 Traceback (most recent call last)",
      "\u001b[1;32m<ipython-input-19-9a55d5c24219>\u001b[0m in \u001b[0;36m<module>\u001b[1;34m\u001b[0m\n\u001b[1;32m----> 1\u001b[1;33m \u001b[0mU\u001b[0m \u001b[1;33m=\u001b[0m \u001b[0mrun\u001b[0m\u001b[1;33m(\u001b[0m\u001b[1;36m1e3\u001b[0m\u001b[1;33m,\u001b[0m\u001b[0mT\u001b[0m\u001b[1;33m,\u001b[0m\u001b[0moccupied\u001b[0m\u001b[1;33m,\u001b[0m \u001b[0mlattice\u001b[0m\u001b[1;33m)\u001b[0m\u001b[1;33m\u001b[0m\u001b[1;33m\u001b[0m\u001b[0m\n\u001b[0m",
      "\u001b[1;32m<ipython-input-16-f0a7df177384>\u001b[0m in \u001b[0;36mrun\u001b[1;34m(nsteps, T, occupied, lattice)\u001b[0m\n\u001b[0;32m     75\u001b[0m     \u001b[0mU\u001b[0m \u001b[1;33m=\u001b[0m \u001b[1;33m[\u001b[0m\u001b[1;33m]\u001b[0m\u001b[1;33m\u001b[0m\u001b[1;33m\u001b[0m\u001b[0m\n\u001b[0;32m     76\u001b[0m     \u001b[1;32mfor\u001b[0m \u001b[0mstep\u001b[0m \u001b[1;32min\u001b[0m \u001b[0mrange\u001b[0m\u001b[1;33m(\u001b[0m\u001b[0mint\u001b[0m\u001b[1;33m(\u001b[0m\u001b[0mnsteps\u001b[0m\u001b[1;33m)\u001b[0m\u001b[1;33m)\u001b[0m\u001b[1;33m:\u001b[0m\u001b[1;33m\u001b[0m\u001b[1;33m\u001b[0m\u001b[0m\n\u001b[1;32m---> 77\u001b[1;33m         \u001b[0moccupied\u001b[0m\u001b[1;33m,\u001b[0m \u001b[0mlattice\u001b[0m\u001b[1;33m,\u001b[0m \u001b[0mu\u001b[0m \u001b[1;33m=\u001b[0m \u001b[0mtrial_move\u001b[0m\u001b[1;33m(\u001b[0m\u001b[0moccupied\u001b[0m\u001b[1;33m,\u001b[0m \u001b[0mlattice\u001b[0m\u001b[1;33m,\u001b[0m\u001b[0mT\u001b[0m\u001b[1;33m)\u001b[0m\u001b[1;33m\u001b[0m\u001b[1;33m\u001b[0m\u001b[0m\n\u001b[0m\u001b[0;32m     78\u001b[0m         \u001b[0mU\u001b[0m\u001b[1;33m.\u001b[0m\u001b[0mappend\u001b[0m\u001b[1;33m(\u001b[0m\u001b[0mu\u001b[0m\u001b[1;33m)\u001b[0m\u001b[1;33m\u001b[0m\u001b[1;33m\u001b[0m\u001b[0m\n\u001b[0;32m     79\u001b[0m     \u001b[1;32mreturn\u001b[0m \u001b[0mnumpy\u001b[0m\u001b[1;33m.\u001b[0m\u001b[0marray\u001b[0m\u001b[1;33m(\u001b[0m\u001b[0mU\u001b[0m\u001b[1;33m)\u001b[0m\u001b[1;33m/\u001b[0m\u001b[0mlen\u001b[0m\u001b[1;33m(\u001b[0m\u001b[0moccupied\u001b[0m\u001b[1;33m)\u001b[0m\u001b[1;33m\u001b[0m\u001b[1;33m\u001b[0m\u001b[0m\n",
      "\u001b[1;31mTypeError\u001b[0m: cannot unpack non-iterable NoneType object"
     ]
    }
   ],
   "source": [
    "U = run(1e3,T,occupied, lattice)"
   ]
  },
  {
   "cell_type": "code",
   "execution_count": 126,
   "metadata": {},
   "outputs": [
    {
     "ename": "IndentationError",
     "evalue": "unexpected indent (<ipython-input-126-25a9a69a82ab>, line 2)",
     "output_type": "error",
     "traceback": [
      "\u001b[1;36m  File \u001b[1;32m\"<ipython-input-126-25a9a69a82ab>\"\u001b[1;36m, line \u001b[1;32m2\u001b[0m\n\u001b[1;33m    for step in range(int(nsteps)):\u001b[0m\n\u001b[1;37m    ^\u001b[0m\n\u001b[1;31mIndentationError\u001b[0m\u001b[1;31m:\u001b[0m unexpected indent\n"
     ]
    }
   ],
   "source": [
    " U = []\n",
    "    for step in range(int(nsteps)):\n",
    "        occupied, lattice, u = trial_move(occupied, lattice,T)\n",
    "        U.append(u)\n",
    "    return numpy.array(U)/len(occupied)"
   ]
  },
  {
   "cell_type": "code",
   "execution_count": 127,
   "metadata": {},
   "outputs": [
    {
     "data": {
      "text/plain": [
       "1"
      ]
     },
     "execution_count": 127,
     "metadata": {},
     "output_type": "execute_result"
    }
   ],
   "source": [
    "9//5"
   ]
  },
  {
   "cell_type": "code",
   "execution_count": 128,
   "metadata": {},
   "outputs": [
    {
     "data": {
      "text/plain": [
       "4"
      ]
     },
     "execution_count": 128,
     "metadata": {},
     "output_type": "execute_result"
    }
   ],
   "source": [
    "9%5\n"
   ]
  },
  {
   "cell_type": "code",
   "execution_count": null,
   "metadata": {},
   "outputs": [],
   "source": []
  }
 ],
 "metadata": {
  "kernelspec": {
   "display_name": "Python 3",
   "language": "python",
   "name": "python3"
  },
  "language_info": {
   "codemirror_mode": {
    "name": "ipython",
    "version": 3
   },
   "file_extension": ".py",
   "mimetype": "text/x-python",
   "name": "python",
   "nbconvert_exporter": "python",
   "pygments_lexer": "ipython3",
   "version": "3.7.1"
  }
 },
 "nbformat": 4,
 "nbformat_minor": 2
}
