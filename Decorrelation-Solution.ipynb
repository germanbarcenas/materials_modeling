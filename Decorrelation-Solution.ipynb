{
 "cells": [
  {
   "cell_type": "code",
   "execution_count": 1,
   "metadata": {},
   "outputs": [
    {
     "data": {
      "image/png": "[encoded data removed]",
      "text/plain": [
       "<Figure size 432x288 with 1 Axes>"
      ]
     },
     "metadata": {
      "needs_background": "light"
     },
     "output_type": "display_data"
    }
   ],
   "source": [
    "# The purpose of this assignment is to develop data handling skills around statistical information.\n",
    "# The two files are PE/N data from 1D MC simulations with N=25, V=50, at T=1.0 or T=0.1.\n",
    "%matplotlib inline\n",
    "import matplotlib.pyplot as plt\n",
    "import numpy\n",
    "def autocorr1D(array):\n",
    "    '''Takes in a linear numpy array, performs autocorrelation\n",
    "       function and returns normalized array with half the length \n",
    "       of the input'''\n",
    "    ft = numpy.fft.rfft(array-numpy.average(array)) \n",
    "    acorr = numpy.fft.irfft(ft*numpy.conjugate(ft))/(len(array)*numpy.var(array))\n",
    "    return acorr[0:len(acorr)//2]\n",
    "u1 = numpy.loadtxt('1.0.txt')\n",
    "u2 = numpy.loadtxt('0.1.txt')\n",
    "fig, ax = plt.subplots()\n",
    "ax.plot(u1,label=\"High T\")\n",
    "ax.plot(u2,label=\"Low T\")\n",
    "legend = ax.legend(loc=\"upper right\")"
   ]
  },
  {
   "cell_type": "code",
   "execution_count": 3,
   "metadata": {},
   "outputs": [
    {
     "name": "stdout",
     "output_type": "stream",
     "text": [
      "High T: -0.602 +/- 0.068\n",
      "Low T: -0.922 +/- 0.045\n"
     ]
    }
   ],
   "source": [
    "#1. What are the means and standard deviations of these two datasets?\n",
    "print(\"High T: {:0.3f} +/- {:0.3f}\".format(numpy.average(u1),numpy.std(u1)))\n",
    "print(\"Low T: {:0.3f} +/- {:0.3f}\".format(numpy.average(u2),numpy.std(u2)))"
   ]
  },
  {
   "cell_type": "code",
   "execution_count": 4,
   "metadata": {},
   "outputs": [
    {
     "name": "stdout",
     "output_type": "stream",
     "text": [
      "If we use the whole of each data set,\n",
      "we get 238 from the High T and 4 from the Low T\n"
     ]
    }
   ],
   "source": [
    "#2. How many statistically independent samples can we extract from each of these data sets?\n",
    "ac1 = autocorr1D(u1)\n",
    "ac2 = autocorr1D(u2)\n",
    "dt1 = numpy.argwhere(ac1<0)[0][0] #the 0th element of argwhere is a list containing the index of the first element <0, so we use [0] of that to get the value itself\n",
    "dt2 = numpy.argwhere(ac2<0)[0][0]\n",
    "print(\"If we use the whole of each data set,\\nwe get {} from the High T and {} from the Low T\".format(len(u1)//dt1,len(u2)//dt2))"
   ]
  },
  {
   "cell_type": "code",
   "execution_count": 5,
   "metadata": {},
   "outputs": [
    {
     "name": "stdout",
     "output_type": "stream",
     "text": [
      "High T: -0.604 +/- 0.068\n",
      "Low T: -0.832 +/- 0.030\n",
      "The fact that the stats changed for the Low T case after taking the independent subset is suspect!\n"
     ]
    }
   ],
   "source": [
    "#4. What are the means and standard deviations of the statistically independent subsets of these data sets?\n",
    "print(\"High T: {:0.3f} +/- {:0.3f}\".format(numpy.average(u1[::dt1]),numpy.std(u1[::-dt1])))\n",
    "print(\"Low T: {:0.3f} +/- {:0.3f}\".format(numpy.average(u2[::dt2]),numpy.std(u2[::-dt2])))\n",
    "print(\"The fact that the stats changed for the Low T case after taking the independent subset is suspect!\")"
   ]
  },
  {
   "cell_type": "code",
   "execution_count": 6,
   "metadata": {},
   "outputs": [
    {
     "name": "stdout",
     "output_type": "stream",
     "text": [
      "Dividing the standard deviation by the sqrt of number of samples gives us standard error of the mean:\n",
      "0.004\n",
      "Therefore the relative error (0.720%) is under 1%, so it's not a terrible bet to bet my life on that.\n",
      "HOWEVER. Noticing that the final PE/N of the low T case is -24/25 tells me that all of the 25 particles\n",
      "have stuck together, making this the lowest possible potential energy structure. So, at T=0.1, I am *certain* \n",
      "that the average potential energy is -0.96: Removing one of the end particles and placing it in an empty spot with no\n",
      "neighbors will occur with p < exp(-1/0.1), or about 45 of every million attempts. So (b) is a bit better :)\n"
     ]
    }
   ],
   "source": [
    "#5. You choose to either (a) Tell me the average potential energy of this system at T=1.0, or\n",
    "#   (b) Tell me the average potential energy of this system at T=0.1. \n",
    "#   Either way, I'll go find the \"real\" potential energy, which was calculated by running for \n",
    "#   infinite time in both cases and compare it against what you tell me. The twist is, that you \n",
    "#   have to bet your life on not being off by more than 1%. Do you choose, (a) or (b), and why?\n",
    "\n",
    "serr = numpy.std(u1[::-dt1])/numpy.sqrt(len(u1[::-dt1]))\n",
    "print(\"Dividing the standard deviation by the sqrt of number of samples gives us standard error of the mean:\\n{:0.3f}\".format(serr))\n",
    "rel_err = numpy.abs(100* serr/numpy.average(u1[::-dt1]))\n",
    "print(\"Therefore the relative error ({:0.3f}%) is under 1%, so it's not a terrible bet to bet my life on that.\".format(rel_err))\n",
    "print(\"HOWEVER. Noticing that the final PE/N of the low T case is -24/25 tells me that all of the 25 particles\\nhave stuck together, making this the lowest possible potential energy structure. So, at T=0.1, I am *certain* \\nthat the average potential energy is -0.96: Removing one of the end particles and placing it in an empty spot with no\\nneighbors will occur with p < exp(-1/0.1), or about 45 of every million attempts. So (b) is a bit better :)\")"
   ]
  },
  {
   "cell_type": "code",
   "execution_count": 3,
   "metadata": {},
   "outputs": [
    {
     "data": {
      "text/plain": [
       "4"
      ]
     },
     "execution_count": 3,
     "metadata": {},
     "output_type": "execute_result"
    }
   ],
   "source": [
    "4%5"
   ]
  },
  {
   "cell_type": "code",
   "execution_count": null,
   "metadata": {},
   "outputs": [],
   "source": []
  }
 ],
 "metadata": {
  "kernelspec": {
   "display_name": "Python 3",
   "language": "python",
   "name": "python3"
  },
  "language_info": {
   "codemirror_mode": {
    "name": "ipython",
    "version": 3
   },
   "file_extension": ".py",
   "mimetype": "text/x-python",
   "name": "python",
   "nbconvert_exporter": "python",
   "pygments_lexer": "ipython3",
   "version": "3.7.1"
  }
 },
 "nbformat": 4,
 "nbformat_minor": 2
}
